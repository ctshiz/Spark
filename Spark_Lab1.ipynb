{
  "nbformat": 4,
  "nbformat_minor": 0,
  "metadata": {
    "colab": {
      "name": "Spark_Lab1.ipynb",
      "provenance": [],
      "collapsed_sections": [],
      "authorship_tag": "ABX9TyPmOMFyam7l92Wb4S0joleM",
      "include_colab_link": true
    },
    "kernelspec": {
      "name": "python3",
      "display_name": "Python 3"
    },
    "language_info": {
      "name": "python"
    }
  },
  "cells": [
    {
      "cell_type": "markdown",
      "metadata": {
        "id": "view-in-github",
        "colab_type": "text"
      },
      "source": [
        "<a href=\"https://colab.research.google.com/github/ctshiz/Spark/blob/main/Spark_Lab1.ipynb\" target=\"_parent\"><img src=\"https://colab.research.google.com/assets/colab-badge.svg\" alt=\"Open In Colab\"/></a>"
      ]
    },
    {
      "cell_type": "markdown",
      "metadata": {
        "id": "oIIVbUOFayWp"
      },
      "source": [
        "**INSTALL SPARK**"
      ]
    },
    {
      "cell_type": "code",
      "metadata": {
        "colab": {
          "base_uri": "https://localhost:8080/"
        },
        "id": "4H4nx3w6NEh6",
        "outputId": "2c475f4c-18ac-45b0-98d8-34e00f7b0a50"
      },
      "source": [
        "!apt-get update\n",
        "!apt-get install openjdk-8-jdk-headless -qq > /dev/null\n",
        "!wget -q https://downloads.apache.org/spark/spark-3.1.1/spark-3.1.1-bin-hadoop2.7.tgz\n",
        "!tar xf spark-3.1.1-bin-hadoop2.7.tgz\n",
        "!pip install -q findspark\n",
        "!pip install pyspark\n",
        "!pip install pyspark[sql]"
      ],
      "execution_count": 1,
      "outputs": [
        {
          "output_type": "stream",
          "text": [
            "Get:1 https://cloud.r-project.org/bin/linux/ubuntu bionic-cran40/ InRelease [3,626 B]\n",
            "Ign:2 https://developer.download.nvidia.com/compute/cuda/repos/ubuntu1804/x86_64  InRelease\n",
            "Ign:3 https://developer.download.nvidia.com/compute/machine-learning/repos/ubuntu1804/x86_64  InRelease\n",
            "Get:4 https://developer.download.nvidia.com/compute/cuda/repos/ubuntu1804/x86_64  Release [697 B]\n",
            "Get:5 http://security.ubuntu.com/ubuntu bionic-security InRelease [88.7 kB]\n",
            "Hit:6 https://developer.download.nvidia.com/compute/machine-learning/repos/ubuntu1804/x86_64  Release\n",
            "Get:7 https://developer.download.nvidia.com/compute/cuda/repos/ubuntu1804/x86_64  Release.gpg [836 B]\n",
            "Hit:8 http://archive.ubuntu.com/ubuntu bionic InRelease\n",
            "Get:9 http://ppa.launchpad.net/c2d4u.team/c2d4u4.0+/ubuntu bionic InRelease [15.9 kB]\n",
            "Get:10 http://archive.ubuntu.com/ubuntu bionic-updates InRelease [88.7 kB]\n",
            "Get:11 https://cloud.r-project.org/bin/linux/ubuntu bionic-cran40/ Packages [53.1 kB]\n",
            "Get:12 http://archive.ubuntu.com/ubuntu bionic-backports InRelease [74.6 kB]\n",
            "Hit:14 http://ppa.launchpad.net/cran/libgit2/ubuntu bionic InRelease\n",
            "Hit:15 http://ppa.launchpad.net/deadsnakes/ppa/ubuntu bionic InRelease\n",
            "Ign:16 https://developer.download.nvidia.com/compute/cuda/repos/ubuntu1804/x86_64  Packages\n",
            "Get:16 https://developer.download.nvidia.com/compute/cuda/repos/ubuntu1804/x86_64  Packages [741 kB]\n",
            "Hit:17 http://ppa.launchpad.net/graphics-drivers/ppa/ubuntu bionic InRelease\n",
            "Get:18 http://ppa.launchpad.net/c2d4u.team/c2d4u4.0+/ubuntu bionic/main Sources [1,757 kB]\n",
            "Get:19 http://security.ubuntu.com/ubuntu bionic-security/universe amd64 Packages [1,410 kB]\n",
            "Get:20 http://archive.ubuntu.com/ubuntu bionic-updates/main amd64 Packages [2,546 kB]\n",
            "Get:21 http://security.ubuntu.com/ubuntu bionic-security/main amd64 Packages [2,116 kB]\n",
            "Get:22 http://security.ubuntu.com/ubuntu bionic-security/restricted amd64 Packages [396 kB]\n",
            "Get:23 http://archive.ubuntu.com/ubuntu bionic-updates/restricted amd64 Packages [426 kB]\n",
            "Get:24 http://archive.ubuntu.com/ubuntu bionic-updates/multiverse amd64 Packages [31.6 kB]\n",
            "Get:25 http://archive.ubuntu.com/ubuntu bionic-updates/universe amd64 Packages [2,181 kB]\n",
            "Get:26 http://security.ubuntu.com/ubuntu bionic-security/multiverse amd64 Packages [24.7 kB]\n",
            "Get:27 http://ppa.launchpad.net/c2d4u.team/c2d4u4.0+/ubuntu bionic/main amd64 Packages [899 kB]\n",
            "Fetched 12.9 MB in 4s (3,577 kB/s)\n",
            "Reading package lists... Done\n",
            "Collecting pyspark\n",
            "\u001b[?25l  Downloading https://files.pythonhosted.org/packages/45/b0/9d6860891ab14a39d4bddf80ba26ce51c2f9dc4805e5c6978ac0472c120a/pyspark-3.1.1.tar.gz (212.3MB)\n",
            "\u001b[K     |████████████████████████████████| 212.3MB 74kB/s \n",
            "\u001b[?25hCollecting py4j==0.10.9\n",
            "\u001b[?25l  Downloading https://files.pythonhosted.org/packages/9e/b6/6a4fb90cd235dc8e265a6a2067f2a2c99f0d91787f06aca4bcf7c23f3f80/py4j-0.10.9-py2.py3-none-any.whl (198kB)\n",
            "\u001b[K     |████████████████████████████████| 204kB 38.2MB/s \n",
            "\u001b[?25hBuilding wheels for collected packages: pyspark\n",
            "  Building wheel for pyspark (setup.py) ... \u001b[?25l\u001b[?25hdone\n",
            "  Created wheel for pyspark: filename=pyspark-3.1.1-py2.py3-none-any.whl size=212767604 sha256=5b8b270075dfc16fd9d8ec60b9a06496236261a56c7984eb8a01f45aa9cbbfbb\n",
            "  Stored in directory: /root/.cache/pip/wheels/0b/90/c0/01de724414ef122bd05f056541fb6a0ecf47c7ca655f8b3c0f\n",
            "Successfully built pyspark\n",
            "Installing collected packages: py4j, pyspark\n",
            "Successfully installed py4j-0.10.9 pyspark-3.1.1\n",
            "Requirement already satisfied: pyspark[sql] in /usr/local/lib/python3.7/dist-packages (3.1.1)\n",
            "Requirement already satisfied: py4j==0.10.9 in /usr/local/lib/python3.7/dist-packages (from pyspark[sql]) (0.10.9)\n",
            "Requirement already satisfied: pyarrow>=1.0.0; extra == \"sql\" in /usr/local/lib/python3.7/dist-packages (from pyspark[sql]) (3.0.0)\n",
            "Requirement already satisfied: pandas>=0.23.2; extra == \"sql\" in /usr/local/lib/python3.7/dist-packages (from pyspark[sql]) (1.1.5)\n",
            "Requirement already satisfied: numpy>=1.16.6 in /usr/local/lib/python3.7/dist-packages (from pyarrow>=1.0.0; extra == \"sql\"->pyspark[sql]) (1.19.5)\n",
            "Requirement already satisfied: pytz>=2017.2 in /usr/local/lib/python3.7/dist-packages (from pandas>=0.23.2; extra == \"sql\"->pyspark[sql]) (2018.9)\n",
            "Requirement already satisfied: python-dateutil>=2.7.3 in /usr/local/lib/python3.7/dist-packages (from pandas>=0.23.2; extra == \"sql\"->pyspark[sql]) (2.8.1)\n",
            "Requirement already satisfied: six>=1.5 in /usr/local/lib/python3.7/dist-packages (from python-dateutil>=2.7.3->pandas>=0.23.2; extra == \"sql\"->pyspark[sql]) (1.15.0)\n"
          ],
          "name": "stdout"
        }
      ]
    },
    {
      "cell_type": "code",
      "metadata": {
        "colab": {
          "base_uri": "https://localhost:8080/"
        },
        "id": "UxuYNU1WbUl5",
        "outputId": "551f5ec3-4ad1-4969-a5e1-7a47723af4bd"
      },
      "source": [
        "!ls"
      ],
      "execution_count": 2,
      "outputs": [
        {
          "output_type": "stream",
          "text": [
            "sample_data  spark-3.1.1-bin-hadoop2.7\tspark-3.1.1-bin-hadoop2.7.tgz\n"
          ],
          "name": "stdout"
        }
      ]
    },
    {
      "cell_type": "markdown",
      "metadata": {
        "id": "xE0SZ2sqhx4w"
      },
      "source": [
        "*****************************************************************************\n",
        "**SET ENVIRONMENT**"
      ]
    },
    {
      "cell_type": "code",
      "metadata": {
        "colab": {
          "base_uri": "https://localhost:8080/",
          "height": 222
        },
        "id": "3uYeD_ZtcULN",
        "outputId": "3c7a77f8-d9d0-4640-f979-5b4ea4478a3f"
      },
      "source": [
        "import pyspark\n",
        "from pyspark.sql import SparkSession\n",
        "spark =  SparkSession.builder.getOrCreate()\n",
        "spark"
      ],
      "execution_count": 3,
      "outputs": [
        {
          "output_type": "execute_result",
          "data": {
            "text/html": [
              "\n",
              "            <div>\n",
              "                <p><b>SparkSession - in-memory</b></p>\n",
              "                \n",
              "        <div>\n",
              "            <p><b>SparkContext</b></p>\n",
              "\n",
              "            <p><a href=\"http://fdb6f334c55e:4040\">Spark UI</a></p>\n",
              "\n",
              "            <dl>\n",
              "              <dt>Version</dt>\n",
              "                <dd><code>v3.1.1</code></dd>\n",
              "              <dt>Master</dt>\n",
              "                <dd><code>local[*]</code></dd>\n",
              "              <dt>AppName</dt>\n",
              "                <dd><code>pyspark-shell</code></dd>\n",
              "            </dl>\n",
              "        </div>\n",
              "        \n",
              "            </div>\n",
              "        "
            ],
            "text/plain": [
              "<pyspark.sql.session.SparkSession at 0x7f595e252ed0>"
            ]
          },
          "metadata": {
            "tags": []
          },
          "execution_count": 3
        }
      ]
    },
    {
      "cell_type": "code",
      "metadata": {
        "id": "lla5ES2wbdN9"
      },
      "source": [
        "import os\n",
        "os.environ[\"JAVA_HOME\"] = \"/user/lib/jvm/java-8-openjdk-amd64\"\n",
        "os.environ[\"SPARK_HOME\"] = \"/content/spark-3.1.1-bin-hadoop2.7\"\n",
        "\n",
        "import findspark\n",
        "findspark.init()\n",
        "from pyspark import SparkContext\n",
        "sc = SparkContext.getOrCreate()\n"
      ],
      "execution_count": 4,
      "outputs": []
    },
    {
      "cell_type": "markdown",
      "metadata": {
        "id": "M1d5tFNhi4vA"
      },
      "source": [
        "*****************************************************************************\n",
        "**DOWNLOADING AND PREPROCESSING CHICAGO'S REPORTED CRIME SCENE**\n"
      ]
    },
    {
      "cell_type": "code",
      "metadata": {
        "colab": {
          "base_uri": "https://localhost:8080/"
        },
        "id": "agG711Fui3o-",
        "outputId": "68f6e26f-6d6b-4555-b0b4-7175b9ceb90c"
      },
      "source": [
        "!wget https://data.cityofchicago.org/api/views/6y6a-5u9n/rows.csv?accessType=DOWNLOAD"
      ],
      "execution_count": 5,
      "outputs": [
        {
          "output_type": "stream",
          "text": [
            "--2021-04-27 14:35:57--  https://data.cityofchicago.org/api/views/6y6a-5u9n/rows.csv?accessType=DOWNLOAD\n",
            "Resolving data.cityofchicago.org (data.cityofchicago.org)... 52.206.140.205, 52.206.68.26, 52.206.140.199\n",
            "Connecting to data.cityofchicago.org (data.cityofchicago.org)|52.206.140.205|:443... connected.\n",
            "HTTP request sent, awaiting response... 200 OK\n",
            "Length: unspecified [text/csv]\n",
            "Saving to: ‘rows.csv?accessType=DOWNLOAD’\n",
            "\n",
            "rows.csv?accessType     [ <=>                ] 257.71K  --.-KB/s    in 0.09s   \n",
            "\n",
            "2021-04-27 14:35:58 (2.81 MB/s) - ‘rows.csv?accessType=DOWNLOAD’ saved [263894]\n",
            "\n"
          ],
          "name": "stdout"
        }
      ]
    },
    {
      "cell_type": "code",
      "metadata": {
        "colab": {
          "base_uri": "https://localhost:8080/"
        },
        "id": "H-2LpB4fjYjn",
        "outputId": "5a433c40-2b90-4d58-ba55-b929785b41b7"
      },
      "source": [
        "!ls "
      ],
      "execution_count": 6,
      "outputs": [
        {
          "output_type": "stream",
          "text": [
            "'rows.csv?accessType=DOWNLOAD'\t spark-3.1.1-bin-hadoop2.7\n",
            " sample_data\t\t\t spark-3.1.1-bin-hadoop2.7.tgz\n"
          ],
          "name": "stdout"
        }
      ]
    },
    {
      "cell_type": "code",
      "metadata": {
        "id": "mAuN6mEKjcmi"
      },
      "source": [
        "#rename the file into reported crimes\n",
        "!mv rows.csv\\?accessType\\=DOWNLOAD reported-crimes.csv"
      ],
      "execution_count": 7,
      "outputs": []
    },
    {
      "cell_type": "code",
      "metadata": {
        "colab": {
          "base_uri": "https://localhost:8080/"
        },
        "id": "8HG9hjFUkCqO",
        "outputId": "1e3c6363-efef-43a1-ff55-171570a092d3"
      },
      "source": [
        "#read the files\n",
        "from pyspark.sql.functions import to_timestamp, col, lit\n",
        "rc =  spark.read.csv('reported-crimes.csv', header=True).withColumn('Date', to_timestamp(col('Date'), 'MM/dd/yyyy hh:mm:ss a')).filter(col('Date') <  lit('2017-01-12'))\n",
        "rc.show(5)"
      ],
      "execution_count": 9,
      "outputs": [
        {
          "output_type": "stream",
          "text": [
            "+--------+-----------+-------------------+--------------------+----+------------------+--------------------+--------------------+------+--------+----+--------+----+--------------+--------+------------+------------+----+--------------------+------------+-------------+--------------------+\n",
            "|      ID|Case Number|               Date|               Block|IUCR|      Primary Type|         Description|Location Description|Arrest|Domestic|Beat|District|Ward|Community Area|FBI Code|X Coordinate|Y Coordinate|Year|          Updated On|    Latitude|    Longitude|            Location|\n",
            "+--------+-----------+-------------------+--------------------+----+------------------+--------------------+--------------------+------+--------+----+--------+----+--------------+--------+------------+------------+----+--------------------+------------+-------------+--------------------+\n",
            "|11711896|   JC293058|2013-06-05 12:00:00|022XX S PRINCETON...|0485|           BATTERY|AGGRAVATED OF A C...|           RESIDENCE| false|    true|0914|     009|  25|            34|     04B|        null|        null|2013|06/06/2019 04:10:...|        null|         null|                null|\n",
            "|10760229|   HW130127|2013-01-24 15:51:44|    029XX S LOWE AVE|1812|         NARCOTICS|POSS: CANNABIS MO...|           APARTMENT|  true|   false|0914|     009|  11|            60|      18|        null|        null|2013|04/15/2017 03:51:...|        null|         null|                null|\n",
            "|10115149|   HY304097|2013-08-01 12:00:00|022XX S WENTWORTH...|1154|DECEPTIVE PRACTICE|FINANCIAL IDENTIT...|           RESIDENCE| false|   false|0914|     009|  25|            34|      11|     1175326|     1889369|2013|02/10/2018 03:50:...|41.851807358|-87.631990954|(41.851807358, -8...|\n",
            "| 8844274|   HV517458|2012-10-14 00:16:00|   001XX W CERMAK RD|1811|         NARCOTICS|POSS: CANNABIS 30...|              STREET|  true|   false|0914|     009|  25|            34|      18|     1175592|     1889757|2012|02/10/2018 03:50:...|41.852866093|-87.631003027|(41.852866093, -8...|\n",
            "| 8844811|   HV518219|2012-10-14 08:00:00|017XX S WENTWORTH ST|0810|             THEFT|           OVER $500|              STREET| false|   false|0914|     009|  25|            33|      06|     1175320|     1891781|2012|02/10/2018 03:50:...|41.858426194|-87.631940662|(41.858426194, -8...|\n",
            "+--------+-----------+-------------------+--------------------+----+------------------+--------------------+--------------------+------+--------+----+--------+----+--------------+--------+------------+------------+----+--------------------+------------+-------------+--------------------+\n",
            "only showing top 5 rows\n",
            "\n"
          ],
          "name": "stdout"
        }
      ]
    },
    {
      "cell_type": "markdown",
      "metadata": {
        "id": "BosYTO_Qnu2c"
      },
      "source": [
        "*****************************************************************************\n",
        "**SCHEMA**"
      ]
    },
    {
      "cell_type": "code",
      "metadata": {
        "colab": {
          "base_uri": "https://localhost:8080/"
        },
        "id": "Y4e3fHQnnyiF",
        "outputId": "0ec52edb-83b1-4972-cf86-621643ed715a"
      },
      "source": [
        "rc.printSchema()"
      ],
      "execution_count": 10,
      "outputs": [
        {
          "output_type": "stream",
          "text": [
            "root\n",
            " |-- ID: string (nullable = true)\n",
            " |-- Case Number: string (nullable = true)\n",
            " |-- Date: timestamp (nullable = true)\n",
            " |-- Block: string (nullable = true)\n",
            " |-- IUCR: string (nullable = true)\n",
            " |-- Primary Type: string (nullable = true)\n",
            " |-- Description: string (nullable = true)\n",
            " |-- Location Description: string (nullable = true)\n",
            " |-- Arrest: string (nullable = true)\n",
            " |-- Domestic: string (nullable = true)\n",
            " |-- Beat: string (nullable = true)\n",
            " |-- District: string (nullable = true)\n",
            " |-- Ward: string (nullable = true)\n",
            " |-- Community Area: string (nullable = true)\n",
            " |-- FBI Code: string (nullable = true)\n",
            " |-- X Coordinate: string (nullable = true)\n",
            " |-- Y Coordinate: string (nullable = true)\n",
            " |-- Year: string (nullable = true)\n",
            " |-- Updated On: string (nullable = true)\n",
            " |-- Latitude: string (nullable = true)\n",
            " |-- Longitude: string (nullable = true)\n",
            " |-- Location: string (nullable = true)\n",
            "\n"
          ],
          "name": "stdout"
        }
      ]
    },
    {
      "cell_type": "code",
      "metadata": {
        "id": "6Era4Pbqn8QY"
      },
      "source": [
        "from pyspark.sql.types import StructType, StructField, StringType, TimestampType, BooleanType, DoubleType, IntegerType"
      ],
      "execution_count": 11,
      "outputs": []
    },
    {
      "cell_type": "code",
      "metadata": {
        "colab": {
          "base_uri": "https://localhost:8080/"
        },
        "id": "XPckYLoEoJQS",
        "outputId": "23ecf717-f0a7-4d27-8aee-1aaa96af0bf1"
      },
      "source": [
        "rc.columns"
      ],
      "execution_count": 12,
      "outputs": [
        {
          "output_type": "execute_result",
          "data": {
            "text/plain": [
              "['ID',\n",
              " 'Case Number',\n",
              " 'Date',\n",
              " 'Block',\n",
              " 'IUCR',\n",
              " 'Primary Type',\n",
              " 'Description',\n",
              " 'Location Description',\n",
              " 'Arrest',\n",
              " 'Domestic',\n",
              " 'Beat',\n",
              " 'District',\n",
              " 'Ward',\n",
              " 'Community Area',\n",
              " 'FBI Code',\n",
              " 'X Coordinate',\n",
              " 'Y Coordinate',\n",
              " 'Year',\n",
              " 'Updated On',\n",
              " 'Latitude',\n",
              " 'Longitude',\n",
              " 'Location']"
            ]
          },
          "metadata": {
            "tags": []
          },
          "execution_count": 12
        }
      ]
    },
    {
      "cell_type": "code",
      "metadata": {
        "id": "9KF05VifoiaG"
      },
      "source": [
        "labels = [\n",
        "          ('ID', StringType()),\n",
        "          ('Case Number', StringType()),\n",
        "          ('Date', TimestampType()),\n",
        "          ('Block',StringType()),\n",
        "          ('IUCR', StringType()),\n",
        "          ('Primary Type',StringType()),\n",
        "          ('Description',StringType()),\n",
        "          ('Location Description',StringType()),\n",
        "          ('Arrest',StringType()),\n",
        "          ('Domestic', BooleanType()),\n",
        "          ('Beat', StringType()),\n",
        "          ('District',StringType()),\n",
        "          ('Ward',StringType()),\n",
        "          ('Community Area', StringType()),\n",
        "          ('FBI Code', StringType()),\n",
        "          ('X Coordinate', StringType()),\n",
        "          ('Y Coordinate', StringType()),\n",
        "          ('Year', IntegerType()),\n",
        "          ('Updated On', StringType()),\n",
        "          ('Latitude', DoubleType()),\n",
        "          ('Longitude', DoubleType()),\n",
        "          ('Location', StringType())\n",
        "]"
      ],
      "execution_count": 13,
      "outputs": []
    },
    {
      "cell_type": "code",
      "metadata": {
        "id": "LY6Bz0mxrifw"
      },
      "source": [
        "schema = StructType([StructField(x[0], x[1], True) for x in labels])"
      ],
      "execution_count": 14,
      "outputs": []
    },
    {
      "cell_type": "code",
      "metadata": {
        "colab": {
          "base_uri": "https://localhost:8080/"
        },
        "id": "6x4fONX2r3vV",
        "outputId": "6972c88a-8c90-405d-be20-caae364980b0"
      },
      "source": [
        "rc = spark.read.csv('reported-crimes.csv', schema=schema)\n",
        "rc.printSchema()"
      ],
      "execution_count": 15,
      "outputs": [
        {
          "output_type": "stream",
          "text": [
            "root\n",
            " |-- ID: string (nullable = true)\n",
            " |-- Case Number: string (nullable = true)\n",
            " |-- Date: timestamp (nullable = true)\n",
            " |-- Block: string (nullable = true)\n",
            " |-- IUCR: string (nullable = true)\n",
            " |-- Primary Type: string (nullable = true)\n",
            " |-- Description: string (nullable = true)\n",
            " |-- Location Description: string (nullable = true)\n",
            " |-- Arrest: string (nullable = true)\n",
            " |-- Domestic: boolean (nullable = true)\n",
            " |-- Beat: string (nullable = true)\n",
            " |-- District: string (nullable = true)\n",
            " |-- Ward: string (nullable = true)\n",
            " |-- Community Area: string (nullable = true)\n",
            " |-- FBI Code: string (nullable = true)\n",
            " |-- X Coordinate: string (nullable = true)\n",
            " |-- Y Coordinate: string (nullable = true)\n",
            " |-- Year: integer (nullable = true)\n",
            " |-- Updated On: string (nullable = true)\n",
            " |-- Latitude: double (nullable = true)\n",
            " |-- Longitude: double (nullable = true)\n",
            " |-- Location: string (nullable = true)\n",
            "\n"
          ],
          "name": "stdout"
        }
      ]
    },
    {
      "cell_type": "code",
      "metadata": {
        "colab": {
          "base_uri": "https://localhost:8080/"
        },
        "id": "ql41ux6wsIUm",
        "outputId": "403fe667-13e7-4644-bd9d-942acf7dffa4"
      },
      "source": [
        "rc.show(5)"
      ],
      "execution_count": 16,
      "outputs": [
        {
          "output_type": "stream",
          "text": [
            "+--------+-----------+----+--------------------+----+------------------+--------------------+--------------------+------+--------+----+--------+----+--------------+--------+------------+------------+----+--------------------+------------+-------------+--------------------+\n",
            "|      ID|Case Number|Date|               Block|IUCR|      Primary Type|         Description|Location Description|Arrest|Domestic|Beat|District|Ward|Community Area|FBI Code|X Coordinate|Y Coordinate|Year|          Updated On|    Latitude|    Longitude|            Location|\n",
            "+--------+-----------+----+--------------------+----+------------------+--------------------+--------------------+------+--------+----+--------+----+--------------+--------+------------+------------+----+--------------------+------------+-------------+--------------------+\n",
            "|      ID|Case Number|null|               Block|IUCR|      Primary Type|         Description|Location Description|Arrest|    null|Beat|District|Ward|Community Area|FBI Code|X Coordinate|Y Coordinate|null|          Updated On|        null|         null|            Location|\n",
            "|11711896|   JC293058|null|022XX S PRINCETON...|0485|           BATTERY|AGGRAVATED OF A C...|           RESIDENCE| false|    true|0914|     009|  25|            34|     04B|        null|        null|2013|06/06/2019 04:10:...|        null|         null|                null|\n",
            "|10760229|   HW130127|null|    029XX S LOWE AVE|1812|         NARCOTICS|POSS: CANNABIS MO...|           APARTMENT|  true|   false|0914|     009|  11|            60|      18|        null|        null|2013|04/15/2017 03:51:...|        null|         null|                null|\n",
            "|10115149|   HY304097|null|022XX S WENTWORTH...|1154|DECEPTIVE PRACTICE|FINANCIAL IDENTIT...|           RESIDENCE| false|   false|0914|     009|  25|            34|      11|     1175326|     1889369|2013|02/10/2018 03:50:...|41.851807358|-87.631990954|(41.851807358, -8...|\n",
            "| 8844274|   HV517458|null|   001XX W CERMAK RD|1811|         NARCOTICS|POSS: CANNABIS 30...|              STREET|  true|   false|0914|     009|  25|            34|      18|     1175592|     1889757|2012|02/10/2018 03:50:...|41.852866093|-87.631003027|(41.852866093, -8...|\n",
            "+--------+-----------+----+--------------------+----+------------------+--------------------+--------------------+------+--------+----+--------+----+--------------+--------+------------+------------+----+--------------------+------------+-------------+--------------------+\n",
            "only showing top 5 rows\n",
            "\n"
          ],
          "name": "stdout"
        }
      ]
    },
    {
      "cell_type": "markdown",
      "metadata": {
        "id": "FihdPqhn2dqg"
      },
      "source": [
        "*****************************************************************************\n",
        "**WORKING WITH COLUMNS**"
      ]
    },
    {
      "cell_type": "markdown",
      "metadata": {
        "id": "3-mmXF-N2k4b"
      },
      "source": [
        "Display only the first 5 roow of the columns name IUCR"
      ]
    },
    {
      "cell_type": "code",
      "metadata": {
        "colab": {
          "base_uri": "https://localhost:8080/"
        },
        "id": "wyhAQ6xn2ixV",
        "outputId": "6dcceae8-52b0-422c-ae3a-3a0fb296c9d3"
      },
      "source": [
        "rc.select('IUCR').show(5)"
      ],
      "execution_count": 17,
      "outputs": [
        {
          "output_type": "stream",
          "text": [
            "+----+\n",
            "|IUCR|\n",
            "+----+\n",
            "|IUCR|\n",
            "|0485|\n",
            "|1812|\n",
            "|1154|\n",
            "|1811|\n",
            "+----+\n",
            "only showing top 5 rows\n",
            "\n"
          ],
          "name": "stdout"
        }
      ]
    },
    {
      "cell_type": "code",
      "metadata": {
        "colab": {
          "base_uri": "https://localhost:8080/"
        },
        "id": "5-uAuNbK21nR",
        "outputId": "d070ee92-c0dd-46a7-c51d-defc10fe4173"
      },
      "source": [
        "rc.select(col('IUCR')).show(5)"
      ],
      "execution_count": 18,
      "outputs": [
        {
          "output_type": "stream",
          "text": [
            "+----+\n",
            "|IUCR|\n",
            "+----+\n",
            "|IUCR|\n",
            "|0485|\n",
            "|1812|\n",
            "|1154|\n",
            "|1811|\n",
            "+----+\n",
            "only showing top 5 rows\n",
            "\n"
          ],
          "name": "stdout"
        }
      ]
    },
    {
      "cell_type": "markdown",
      "metadata": {
        "id": "QR0IdKJr28YC"
      },
      "source": [
        "Display only the first 4 rows of the colum names Case Number, Date and Arrest"
      ]
    },
    {
      "cell_type": "code",
      "metadata": {
        "colab": {
          "base_uri": "https://localhost:8080/"
        },
        "id": "Z7MrFD9X3Fwg",
        "outputId": "070c790e-63f0-443c-dbd4-eecc5b70b759"
      },
      "source": [
        "rc.select('Case Number', 'Date', 'Arrest').show(4)"
      ],
      "execution_count": 19,
      "outputs": [
        {
          "output_type": "stream",
          "text": [
            "+-----------+----+------+\n",
            "|Case Number|Date|Arrest|\n",
            "+-----------+----+------+\n",
            "|Case Number|null|Arrest|\n",
            "|   JC293058|null| false|\n",
            "|   HW130127|null|  true|\n",
            "|   HY304097|null| false|\n",
            "+-----------+----+------+\n",
            "only showing top 4 rows\n",
            "\n"
          ],
          "name": "stdout"
        }
      ]
    },
    {
      "cell_type": "markdown",
      "metadata": {
        "id": "HmKErcqT3TtJ"
      },
      "source": [
        "Add a column with name One, with entries all 1s"
      ]
    },
    {
      "cell_type": "code",
      "metadata": {
        "id": "RKbM79y_26xu"
      },
      "source": [
        "from pyspark.sql.functions import lit"
      ],
      "execution_count": 20,
      "outputs": []
    },
    {
      "cell_type": "code",
      "metadata": {
        "colab": {
          "base_uri": "https://localhost:8080/"
        },
        "id": "orhKa_z13kKP",
        "outputId": "ca350997-54b7-4534-af0a-482198522df2"
      },
      "source": [
        "rc.withColumn('One', lit(1)).show(5)"
      ],
      "execution_count": 21,
      "outputs": [
        {
          "output_type": "stream",
          "text": [
            "+--------+-----------+----+--------------------+----+------------------+--------------------+--------------------+------+--------+----+--------+----+--------------+--------+------------+------------+----+--------------------+------------+-------------+--------------------+---+\n",
            "|      ID|Case Number|Date|               Block|IUCR|      Primary Type|         Description|Location Description|Arrest|Domestic|Beat|District|Ward|Community Area|FBI Code|X Coordinate|Y Coordinate|Year|          Updated On|    Latitude|    Longitude|            Location|One|\n",
            "+--------+-----------+----+--------------------+----+------------------+--------------------+--------------------+------+--------+----+--------+----+--------------+--------+------------+------------+----+--------------------+------------+-------------+--------------------+---+\n",
            "|      ID|Case Number|null|               Block|IUCR|      Primary Type|         Description|Location Description|Arrest|    null|Beat|District|Ward|Community Area|FBI Code|X Coordinate|Y Coordinate|null|          Updated On|        null|         null|            Location|  1|\n",
            "|11711896|   JC293058|null|022XX S PRINCETON...|0485|           BATTERY|AGGRAVATED OF A C...|           RESIDENCE| false|    true|0914|     009|  25|            34|     04B|        null|        null|2013|06/06/2019 04:10:...|        null|         null|                null|  1|\n",
            "|10760229|   HW130127|null|    029XX S LOWE AVE|1812|         NARCOTICS|POSS: CANNABIS MO...|           APARTMENT|  true|   false|0914|     009|  11|            60|      18|        null|        null|2013|04/15/2017 03:51:...|        null|         null|                null|  1|\n",
            "|10115149|   HY304097|null|022XX S WENTWORTH...|1154|DECEPTIVE PRACTICE|FINANCIAL IDENTIT...|           RESIDENCE| false|   false|0914|     009|  25|            34|      11|     1175326|     1889369|2013|02/10/2018 03:50:...|41.851807358|-87.631990954|(41.851807358, -8...|  1|\n",
            "| 8844274|   HV517458|null|   001XX W CERMAK RD|1811|         NARCOTICS|POSS: CANNABIS 30...|              STREET|  true|   false|0914|     009|  25|            34|      18|     1175592|     1889757|2012|02/10/2018 03:50:...|41.852866093|-87.631003027|(41.852866093, -8...|  1|\n",
            "+--------+-----------+----+--------------------+----+------------------+--------------------+--------------------+------+--------+----+--------+----+--------------+--------+------------+------------+----+--------------------+------------+-------------+--------------------+---+\n",
            "only showing top 5 rows\n",
            "\n"
          ],
          "name": "stdout"
        }
      ]
    },
    {
      "cell_type": "markdown",
      "metadata": {
        "id": "JKF1LDH332q5"
      },
      "source": [
        "Remove the column IUCR"
      ]
    },
    {
      "cell_type": "code",
      "metadata": {
        "colab": {
          "base_uri": "https://localhost:8080/"
        },
        "id": "AmEg-Fmj309O",
        "outputId": "d71d7293-47ec-416b-e93c-507f06a76315"
      },
      "source": [
        "rcp = rc.drop('IUCR')\n",
        "rcp.show(5)"
      ],
      "execution_count": 22,
      "outputs": [
        {
          "output_type": "stream",
          "text": [
            "+--------+-----------+----+--------------------+------------------+--------------------+--------------------+------+--------+----+--------+----+--------------+--------+------------+------------+----+--------------------+------------+-------------+--------------------+\n",
            "|      ID|Case Number|Date|               Block|      Primary Type|         Description|Location Description|Arrest|Domestic|Beat|District|Ward|Community Area|FBI Code|X Coordinate|Y Coordinate|Year|          Updated On|    Latitude|    Longitude|            Location|\n",
            "+--------+-----------+----+--------------------+------------------+--------------------+--------------------+------+--------+----+--------+----+--------------+--------+------------+------------+----+--------------------+------------+-------------+--------------------+\n",
            "|      ID|Case Number|null|               Block|      Primary Type|         Description|Location Description|Arrest|    null|Beat|District|Ward|Community Area|FBI Code|X Coordinate|Y Coordinate|null|          Updated On|        null|         null|            Location|\n",
            "|11711896|   JC293058|null|022XX S PRINCETON...|           BATTERY|AGGRAVATED OF A C...|           RESIDENCE| false|    true|0914|     009|  25|            34|     04B|        null|        null|2013|06/06/2019 04:10:...|        null|         null|                null|\n",
            "|10760229|   HW130127|null|    029XX S LOWE AVE|         NARCOTICS|POSS: CANNABIS MO...|           APARTMENT|  true|   false|0914|     009|  11|            60|      18|        null|        null|2013|04/15/2017 03:51:...|        null|         null|                null|\n",
            "|10115149|   HY304097|null|022XX S WENTWORTH...|DECEPTIVE PRACTICE|FINANCIAL IDENTIT...|           RESIDENCE| false|   false|0914|     009|  25|            34|      11|     1175326|     1889369|2013|02/10/2018 03:50:...|41.851807358|-87.631990954|(41.851807358, -8...|\n",
            "| 8844274|   HV517458|null|   001XX W CERMAK RD|         NARCOTICS|POSS: CANNABIS 30...|              STREET|  true|   false|0914|     009|  25|            34|      18|     1175592|     1889757|2012|02/10/2018 03:50:...|41.852866093|-87.631003027|(41.852866093, -8...|\n",
            "+--------+-----------+----+--------------------+------------------+--------------------+--------------------+------+--------+----+--------+----+--------------+--------+------------+------------+----+--------------------+------------+-------------+--------------------+\n",
            "only showing top 5 rows\n",
            "\n"
          ],
          "name": "stdout"
        }
      ]
    },
    {
      "cell_type": "markdown",
      "metadata": {
        "id": "v8Fhy0AD5ruN"
      },
      "source": [
        "*****************************************************************************\n",
        "**WORKING WITH ROWS**"
      ]
    },
    {
      "cell_type": "markdown",
      "metadata": {
        "id": "suzawjpn5xtK"
      },
      "source": [
        "Add the reported crimes for an additional day, 12-nov-2018, to our dataset"
      ]
    },
    {
      "cell_type": "code",
      "metadata": {
        "colab": {
          "base_uri": "https://localhost:8080/"
        },
        "id": "D5suvWfR5vyN",
        "outputId": "0bad3cf4-a017-40ac-8170-863d7fb70804"
      },
      "source": [
        "one_day = spark.read.csv('reported-crimes.csv', header=True).withColumn('Date', to_timestamp(col('Date'), 'MM/dd/yyyy hh:mm:ss a')).filter(col('Date') <  lit('2015-01-12'))\n",
        "one_day.show(5)"
      ],
      "execution_count": 23,
      "outputs": [
        {
          "output_type": "stream",
          "text": [
            "+--------+-----------+-------------------+--------------------+----+------------------+--------------------+--------------------+------+--------+----+--------+----+--------------+--------+------------+------------+----+--------------------+------------+-------------+--------------------+\n",
            "|      ID|Case Number|               Date|               Block|IUCR|      Primary Type|         Description|Location Description|Arrest|Domestic|Beat|District|Ward|Community Area|FBI Code|X Coordinate|Y Coordinate|Year|          Updated On|    Latitude|    Longitude|            Location|\n",
            "+--------+-----------+-------------------+--------------------+----+------------------+--------------------+--------------------+------+--------+----+--------+----+--------------+--------+------------+------------+----+--------------------+------------+-------------+--------------------+\n",
            "|11711896|   JC293058|2013-06-05 12:00:00|022XX S PRINCETON...|0485|           BATTERY|AGGRAVATED OF A C...|           RESIDENCE| false|    true|0914|     009|  25|            34|     04B|        null|        null|2013|06/06/2019 04:10:...|        null|         null|                null|\n",
            "|10760229|   HW130127|2013-01-24 15:51:44|    029XX S LOWE AVE|1812|         NARCOTICS|POSS: CANNABIS MO...|           APARTMENT|  true|   false|0914|     009|  11|            60|      18|        null|        null|2013|04/15/2017 03:51:...|        null|         null|                null|\n",
            "|10115149|   HY304097|2013-08-01 12:00:00|022XX S WENTWORTH...|1154|DECEPTIVE PRACTICE|FINANCIAL IDENTIT...|           RESIDENCE| false|   false|0914|     009|  25|            34|      11|     1175326|     1889369|2013|02/10/2018 03:50:...|41.851807358|-87.631990954|(41.851807358, -8...|\n",
            "| 8844274|   HV517458|2012-10-14 00:16:00|   001XX W CERMAK RD|1811|         NARCOTICS|POSS: CANNABIS 30...|              STREET|  true|   false|0914|     009|  25|            34|      18|     1175592|     1889757|2012|02/10/2018 03:50:...|41.852866093|-87.631003027|(41.852866093, -8...|\n",
            "| 8844811|   HV518219|2012-10-14 08:00:00|017XX S WENTWORTH ST|0810|             THEFT|           OVER $500|              STREET| false|   false|0914|     009|  25|            33|      06|     1175320|     1891781|2012|02/10/2018 03:50:...|41.858426194|-87.631940662|(41.858426194, -8...|\n",
            "+--------+-----------+-------------------+--------------------+----+------------------+--------------------+--------------------+------+--------+----+--------+----+--------------+--------+------------+------------+----+--------------------+------------+-------------+--------------------+\n",
            "only showing top 5 rows\n",
            "\n"
          ],
          "name": "stdout"
        }
      ]
    },
    {
      "cell_type": "markdown",
      "metadata": {
        "id": "wEAK_oIv8Pz7"
      },
      "source": [
        "TOP 10 NUMBER OF REPORTED CRIMES BY PRIMARY TYPE, IN DESCENDING ORDER OF OCCURENCE"
      ]
    },
    {
      "cell_type": "code",
      "metadata": {
        "colab": {
          "base_uri": "https://localhost:8080/"
        },
        "id": "JSxdsv4h73Qb",
        "outputId": "89aabeb8-7ffd-4bb7-d77e-c8041b9bf9b0"
      },
      "source": [
        "rc.groupBy('Primary Type').count().orderBy('count', ascending=False).show(10)"
      ],
      "execution_count": 24,
      "outputs": [
        {
          "output_type": "stream",
          "text": [
            "+-------------------+-----+\n",
            "|       Primary Type|count|\n",
            "+-------------------+-----+\n",
            "|              THEFT|  396|\n",
            "|    CRIMINAL DAMAGE|  141|\n",
            "|            BATTERY|  117|\n",
            "|MOTOR VEHICLE THEFT|  102|\n",
            "| DECEPTIVE PRACTICE|   88|\n",
            "|           BURGLARY|   85|\n",
            "|            ROBBERY|   52|\n",
            "|      OTHER OFFENSE|   37|\n",
            "|          NARCOTICS|   29|\n",
            "|            ASSAULT|   29|\n",
            "+-------------------+-----+\n",
            "only showing top 10 rows\n",
            "\n"
          ],
          "name": "stdout"
        }
      ]
    },
    {
      "cell_type": "markdown",
      "metadata": {
        "id": "kqKFDLsi9BQq"
      },
      "source": [
        "*****************************************************************************\n",
        "**CHALLENGE QUESTIONS**"
      ]
    },
    {
      "cell_type": "markdown",
      "metadata": {
        "id": "2_3-7-hj9Kjp"
      },
      "source": [
        "THE PERCENTAGE OF REPORTED CRIMES RESULTED IN AN ARREST"
      ]
    },
    {
      "cell_type": "code",
      "metadata": {
        "colab": {
          "base_uri": "https://localhost:8080/"
        },
        "id": "W0hDsiKn9I5H",
        "outputId": "009a07bd-6adb-4bb9-e3d7-9d93b355be4e"
      },
      "source": [
        "rc.select('Arrest').distinct().show()"
      ],
      "execution_count": 25,
      "outputs": [
        {
          "output_type": "stream",
          "text": [
            "+------+\n",
            "|Arrest|\n",
            "+------+\n",
            "|Arrest|\n",
            "| false|\n",
            "|  true|\n",
            "+------+\n",
            "\n"
          ],
          "name": "stdout"
        }
      ]
    },
    {
      "cell_type": "code",
      "metadata": {
        "colab": {
          "base_uri": "https://localhost:8080/"
        },
        "id": "0paWtV4XDAE5",
        "outputId": "02f37b04-344e-4346-d5b0-121631f0a09e"
      },
      "source": [
        "rc.printSchema()"
      ],
      "execution_count": 26,
      "outputs": [
        {
          "output_type": "stream",
          "text": [
            "root\n",
            " |-- ID: string (nullable = true)\n",
            " |-- Case Number: string (nullable = true)\n",
            " |-- Date: timestamp (nullable = true)\n",
            " |-- Block: string (nullable = true)\n",
            " |-- IUCR: string (nullable = true)\n",
            " |-- Primary Type: string (nullable = true)\n",
            " |-- Description: string (nullable = true)\n",
            " |-- Location Description: string (nullable = true)\n",
            " |-- Arrest: string (nullable = true)\n",
            " |-- Domestic: boolean (nullable = true)\n",
            " |-- Beat: string (nullable = true)\n",
            " |-- District: string (nullable = true)\n",
            " |-- Ward: string (nullable = true)\n",
            " |-- Community Area: string (nullable = true)\n",
            " |-- FBI Code: string (nullable = true)\n",
            " |-- X Coordinate: string (nullable = true)\n",
            " |-- Y Coordinate: string (nullable = true)\n",
            " |-- Year: integer (nullable = true)\n",
            " |-- Updated On: string (nullable = true)\n",
            " |-- Latitude: double (nullable = true)\n",
            " |-- Longitude: double (nullable = true)\n",
            " |-- Location: string (nullable = true)\n",
            "\n"
          ],
          "name": "stdout"
        }
      ]
    },
    {
      "cell_type": "code",
      "metadata": {
        "colab": {
          "base_uri": "https://localhost:8080/"
        },
        "id": "1Cyypi-TDFN-",
        "outputId": "cf24948e-fc58-4090-db31-de910cebe6cb"
      },
      "source": [
        "rc.filter(col('Arrest') == 'true').count() / rc.select('Arrest').count()"
      ],
      "execution_count": 27,
      "outputs": [
        {
          "output_type": "execute_result",
          "data": {
            "text/plain": [
              "0.15575221238938053"
            ]
          },
          "metadata": {
            "tags": []
          },
          "execution_count": 27
        }
      ]
    },
    {
      "cell_type": "markdown",
      "metadata": {
        "id": "JbW-2oS8DUuv"
      },
      "source": [
        "TOP 3 LOCATIONS FOR REPORTED CRIMES"
      ]
    },
    {
      "cell_type": "code",
      "metadata": {
        "colab": {
          "base_uri": "https://localhost:8080/"
        },
        "id": "QiiU8RMODZGl",
        "outputId": "944e8b7b-7133-40b9-cf38-f454fd9a6f7d"
      },
      "source": [
        "rc.groupBy('Location Description').count().orderBy('count', ascending=False).show(3)"
      ],
      "execution_count": 28,
      "outputs": [
        {
          "output_type": "stream",
          "text": [
            "+--------------------+-----+\n",
            "|Location Description|count|\n",
            "+--------------------+-----+\n",
            "|              STREET|  435|\n",
            "|           RESIDENCE|  109|\n",
            "|           APARTMENT|  103|\n",
            "+--------------------+-----+\n",
            "only showing top 3 rows\n",
            "\n"
          ],
          "name": "stdout"
        }
      ]
    },
    {
      "cell_type": "markdown",
      "metadata": {
        "id": "oN3YzTitQ_PI"
      },
      "source": [
        "**BUILT-IN FUNCTIONS**"
      ]
    },
    {
      "cell_type": "code",
      "metadata": {
        "colab": {
          "base_uri": "https://localhost:8080/"
        },
        "id": "HnB4rXepQ-rd",
        "outputId": "d276683f-53e4-499f-a5a6-cca2f0049efd"
      },
      "source": [
        "from pyspark.sql import functions\n",
        "print(dir(functions))"
      ],
      "execution_count": 29,
      "outputs": [
        {
          "output_type": "stream",
          "text": [
            "['Column', 'DataFrame', 'DataType', 'PandasUDFType', 'PythonEvalType', 'SparkContext', 'StringType', 'UserDefinedFunction', '__builtins__', '__cached__', '__doc__', '__file__', '__loader__', '__name__', '__package__', '__spec__', '_create_column_from_literal', '_create_lambda', '_create_udf', '_get_get_jvm_function', '_get_lambda_parameters', '_invoke_binary_math_function', '_invoke_function', '_invoke_function_over_column', '_invoke_higher_order_function', '_options_to_str', '_test', '_to_java_column', '_to_seq', '_unresolved_named_lambda_variable', 'abs', 'acos', 'acosh', 'add_months', 'aggregate', 'approxCountDistinct', 'approx_count_distinct', 'array', 'array_contains', 'array_distinct', 'array_except', 'array_intersect', 'array_join', 'array_max', 'array_min', 'array_position', 'array_remove', 'array_repeat', 'array_sort', 'array_union', 'arrays_overlap', 'arrays_zip', 'asc', 'asc_nulls_first', 'asc_nulls_last', 'ascii', 'asin', 'asinh', 'assert_true', 'atan', 'atan2', 'atanh', 'avg', 'base64', 'bin', 'bitwiseNOT', 'broadcast', 'bround', 'bucket', 'cbrt', 'ceil', 'coalesce', 'col', 'collect_list', 'collect_set', 'column', 'concat', 'concat_ws', 'conv', 'corr', 'cos', 'cosh', 'count', 'countDistinct', 'covar_pop', 'covar_samp', 'crc32', 'create_map', 'cume_dist', 'current_date', 'current_timestamp', 'date_add', 'date_format', 'date_sub', 'date_trunc', 'datediff', 'dayofmonth', 'dayofweek', 'dayofyear', 'days', 'decode', 'degrees', 'dense_rank', 'desc', 'desc_nulls_first', 'desc_nulls_last', 'element_at', 'encode', 'exists', 'exp', 'explode', 'explode_outer', 'expm1', 'expr', 'factorial', 'filter', 'first', 'flatten', 'floor', 'forall', 'format_number', 'format_string', 'from_csv', 'from_json', 'from_unixtime', 'from_utc_timestamp', 'functools', 'get_json_object', 'greatest', 'grouping', 'grouping_id', 'hash', 'hex', 'hour', 'hours', 'hypot', 'initcap', 'input_file_name', 'instr', 'isnan', 'isnull', 'json_tuple', 'kurtosis', 'lag', 'last', 'last_day', 'lead', 'least', 'length', 'levenshtein', 'lit', 'locate', 'log', 'log10', 'log1p', 'log2', 'lower', 'lpad', 'ltrim', 'map_concat', 'map_entries', 'map_filter', 'map_from_arrays', 'map_from_entries', 'map_keys', 'map_values', 'map_zip_with', 'max', 'md5', 'mean', 'min', 'minute', 'monotonically_increasing_id', 'month', 'months', 'months_between', 'nanvl', 'next_day', 'nth_value', 'ntile', 'overlay', 'pandas_udf', 'percent_rank', 'percentile_approx', 'posexplode', 'posexplode_outer', 'pow', 'quarter', 'radians', 'raise_error', 'rand', 'randn', 'rank', 'regexp_extract', 'regexp_replace', 'repeat', 'reverse', 'rint', 'round', 'row_number', 'rpad', 'rtrim', 'schema_of_csv', 'schema_of_json', 'second', 'sequence', 'sha1', 'sha2', 'shiftLeft', 'shiftRight', 'shiftRightUnsigned', 'shuffle', 'signum', 'sin', 'since', 'sinh', 'size', 'skewness', 'slice', 'sort_array', 'soundex', 'spark_partition_id', 'split', 'sqrt', 'stddev', 'stddev_pop', 'stddev_samp', 'struct', 'substring', 'substring_index', 'sum', 'sumDistinct', 'sys', 'tan', 'tanh', 'timestamp_seconds', 'toDegrees', 'toRadians', 'to_csv', 'to_date', 'to_json', 'to_str', 'to_timestamp', 'to_utc_timestamp', 'transform', 'transform_keys', 'transform_values', 'translate', 'trim', 'trunc', 'udf', 'unbase64', 'unhex', 'unix_timestamp', 'upper', 'var_pop', 'var_samp', 'variance', 'warnings', 'weekofyear', 'when', 'window', 'xxhash64', 'year', 'years', 'zip_with']\n"
          ],
          "name": "stdout"
        }
      ]
    },
    {
      "cell_type": "markdown",
      "metadata": {
        "id": "RBM3dblnRQNx"
      },
      "source": [
        "STRING FUNCTIONS"
      ]
    },
    {
      "cell_type": "markdown",
      "metadata": {
        "id": "oRFDUlzXRi2N"
      },
      "source": [
        "Display the primary type column in lower and upper characters, and the first 4 characters "
      ]
    },
    {
      "cell_type": "code",
      "metadata": {
        "id": "_w9Mc3oTRTg8"
      },
      "source": [
        "from pyspark.sql.functions import lower,upper, substring"
      ],
      "execution_count": 30,
      "outputs": []
    },
    {
      "cell_type": "code",
      "metadata": {
        "colab": {
          "base_uri": "https://localhost:8080/"
        },
        "id": "onGGOiGqR4UG",
        "outputId": "ac567aca-5d7c-4447-f5ce-658352f2e058"
      },
      "source": [
        "rc.printSchema()"
      ],
      "execution_count": 31,
      "outputs": [
        {
          "output_type": "stream",
          "text": [
            "root\n",
            " |-- ID: string (nullable = true)\n",
            " |-- Case Number: string (nullable = true)\n",
            " |-- Date: timestamp (nullable = true)\n",
            " |-- Block: string (nullable = true)\n",
            " |-- IUCR: string (nullable = true)\n",
            " |-- Primary Type: string (nullable = true)\n",
            " |-- Description: string (nullable = true)\n",
            " |-- Location Description: string (nullable = true)\n",
            " |-- Arrest: string (nullable = true)\n",
            " |-- Domestic: boolean (nullable = true)\n",
            " |-- Beat: string (nullable = true)\n",
            " |-- District: string (nullable = true)\n",
            " |-- Ward: string (nullable = true)\n",
            " |-- Community Area: string (nullable = true)\n",
            " |-- FBI Code: string (nullable = true)\n",
            " |-- X Coordinate: string (nullable = true)\n",
            " |-- Y Coordinate: string (nullable = true)\n",
            " |-- Year: integer (nullable = true)\n",
            " |-- Updated On: string (nullable = true)\n",
            " |-- Latitude: double (nullable = true)\n",
            " |-- Longitude: double (nullable = true)\n",
            " |-- Location: string (nullable = true)\n",
            "\n"
          ],
          "name": "stdout"
        }
      ]
    },
    {
      "cell_type": "code",
      "metadata": {
        "colab": {
          "base_uri": "https://localhost:8080/"
        },
        "id": "bW95-QgiR9_C",
        "outputId": "893b02f2-6cef-4b18-97f3-c076ec74f241"
      },
      "source": [
        "rc.select(lower(col('Primary Type')), upper(col('Primary Type')), substring(col('Primary Type'),1,4)).show(5)"
      ],
      "execution_count": 32,
      "outputs": [
        {
          "output_type": "stream",
          "text": [
            "+-------------------+-------------------+-----------------------------+\n",
            "|lower(Primary Type)|upper(Primary Type)|substring(Primary Type, 1, 4)|\n",
            "+-------------------+-------------------+-----------------------------+\n",
            "|       primary type|       PRIMARY TYPE|                         Prim|\n",
            "|            battery|            BATTERY|                         BATT|\n",
            "|          narcotics|          NARCOTICS|                         NARC|\n",
            "| deceptive practice| DECEPTIVE PRACTICE|                         DECE|\n",
            "|          narcotics|          NARCOTICS|                         NARC|\n",
            "+-------------------+-------------------+-----------------------------+\n",
            "only showing top 5 rows\n",
            "\n"
          ],
          "name": "stdout"
        }
      ]
    },
    {
      "cell_type": "markdown",
      "metadata": {
        "id": "B-nVb_pOSV3t"
      },
      "source": [
        "NUMERIC FUNCTIONS"
      ]
    },
    {
      "cell_type": "code",
      "metadata": {
        "id": "rwogh_bDSX7u"
      },
      "source": [
        "from pyspark.sql.functions import min,max"
      ],
      "execution_count": 33,
      "outputs": []
    },
    {
      "cell_type": "code",
      "metadata": {
        "colab": {
          "base_uri": "https://localhost:8080/"
        },
        "id": "jh_T7K9gSegk",
        "outputId": "aa052d91-15a0-489f-f7d6-d21cc9eb9448"
      },
      "source": [
        "one_day.select(min(col('Date')), max(col('Date'))).show(2)"
      ],
      "execution_count": 34,
      "outputs": [
        {
          "output_type": "stream",
          "text": [
            "+-------------------+-------------------+\n",
            "|          min(Date)|          max(Date)|\n",
            "+-------------------+-------------------+\n",
            "|2012-10-14 00:16:00|2013-10-13 22:00:00|\n",
            "+-------------------+-------------------+\n",
            "\n"
          ],
          "name": "stdout"
        }
      ]
    },
    {
      "cell_type": "markdown",
      "metadata": {
        "id": "PTy08nYXTE5L"
      },
      "source": [
        "DATE"
      ]
    },
    {
      "cell_type": "code",
      "metadata": {
        "id": "DgmPNLoKTGrc"
      },
      "source": [
        "from pyspark.sql.functions import date_add, date_sub"
      ],
      "execution_count": 35,
      "outputs": []
    },
    {
      "cell_type": "code",
      "metadata": {
        "colab": {
          "base_uri": "https://localhost:8080/"
        },
        "id": "uFZ_FxCwTPw8",
        "outputId": "68b49164-6f04-45d1-d02f-2d5976d5aa15"
      },
      "source": [
        "help(date_add)"
      ],
      "execution_count": 36,
      "outputs": [
        {
          "output_type": "stream",
          "text": [
            "Help on function date_add in module pyspark.sql.functions:\n",
            "\n",
            "date_add(start, days)\n",
            "    Returns the date that is `days` days after `start`\n",
            "    \n",
            "    .. versionadded:: 1.5.0\n",
            "    \n",
            "    Examples\n",
            "    --------\n",
            "    >>> df = spark.createDataFrame([('2015-04-08',)], ['dt'])\n",
            "    >>> df.select(date_add(df.dt, 1).alias('next_date')).collect()\n",
            "    [Row(next_date=datetime.date(2015, 4, 9))]\n",
            "\n"
          ],
          "name": "stdout"
        }
      ]
    },
    {
      "cell_type": "code",
      "metadata": {
        "colab": {
          "base_uri": "https://localhost:8080/"
        },
        "id": "QiHt4p-XUTsW",
        "outputId": "f681a1e9-1ca1-41c8-be6b-5e6caae790bd"
      },
      "source": [
        "one_day.select(date_sub(min(col('Date')),3), date_add(max(col('Date')),3)).show(1)"
      ],
      "execution_count": 38,
      "outputs": [
        {
          "output_type": "stream",
          "text": [
            "+----------------------+----------------------+\n",
            "|date_sub(min(Date), 3)|date_add(max(Date), 3)|\n",
            "+----------------------+----------------------+\n",
            "|            2012-10-11|            2013-10-16|\n",
            "+----------------------+----------------------+\n",
            "\n"
          ],
          "name": "stdout"
        }
      ]
    },
    {
      "cell_type": "code",
      "metadata": {
        "id": "PjX1xCKYWRYa"
      },
      "source": [
        "from pyspark.sql.functions import  to_date, to_timestamp, lit"
      ],
      "execution_count": 39,
      "outputs": []
    },
    {
      "cell_type": "markdown",
      "metadata": {
        "id": "QVWLtgazWaR0"
      },
      "source": [
        "2019-12-25 13:30:00"
      ]
    },
    {
      "cell_type": "code",
      "metadata": {
        "colab": {
          "base_uri": "https://localhost:8080/"
        },
        "id": "MKvuiGXXWX38",
        "outputId": "9913f3a0-4c28-48e7-80e0-f495e7673e27"
      },
      "source": [
        "df = spark.createDataFrame([('2019-12-25 13:30:00',)], ['Christmas'])\n",
        "df.show(1)"
      ],
      "execution_count": 40,
      "outputs": [
        {
          "output_type": "stream",
          "text": [
            "+-------------------+\n",
            "|          Christmas|\n",
            "+-------------------+\n",
            "|2019-12-25 13:30:00|\n",
            "+-------------------+\n",
            "\n"
          ],
          "name": "stdout"
        }
      ]
    },
    {
      "cell_type": "code",
      "metadata": {
        "colab": {
          "base_uri": "https://localhost:8080/"
        },
        "id": "GDft65mMXUV2",
        "outputId": "0b4658f5-4455-405a-e0c6-39cf136f5f3d"
      },
      "source": [
        "df.select(to_date(col('Christmas'), 'yyyy-MM-dd HH:mm:ss'), to_timestamp(col('Christmas'), 'yyyy-MM-dd HH:mm:ss')).show(1)"
      ],
      "execution_count": 41,
      "outputs": [
        {
          "output_type": "stream",
          "text": [
            "+---------------------------------------+--------------------------------------------+\n",
            "|to_date(Christmas, yyyy-MM-dd HH:mm:ss)|to_timestamp(Christmas, yyyy-MM-dd HH:mm:ss)|\n",
            "+---------------------------------------+--------------------------------------------+\n",
            "|                             2019-12-25|                         2019-12-25 13:30:00|\n",
            "+---------------------------------------+--------------------------------------------+\n",
            "\n"
          ],
          "name": "stdout"
        }
      ]
    },
    {
      "cell_type": "markdown",
      "metadata": {
        "id": "62VBS3LiYBne"
      },
      "source": [
        "25/dec/2019 13:30:00"
      ]
    },
    {
      "cell_type": "code",
      "metadata": {
        "colab": {
          "base_uri": "https://localhost:8080/"
        },
        "id": "cSlVpDj7YXSe",
        "outputId": "53438378-3996-46f6-8c7e-b1118fd35f23"
      },
      "source": [
        "df = spark.createDataFrame([('25/Dec/2019 13:30:00',)], ['Christmas'])\n",
        "df.show(1)"
      ],
      "execution_count": 42,
      "outputs": [
        {
          "output_type": "stream",
          "text": [
            "+--------------------+\n",
            "|           Christmas|\n",
            "+--------------------+\n",
            "|25/Dec/2019 13:30:00|\n",
            "+--------------------+\n",
            "\n"
          ],
          "name": "stdout"
        }
      ]
    },
    {
      "cell_type": "code",
      "metadata": {
        "colab": {
          "base_uri": "https://localhost:8080/"
        },
        "id": "b0jPLvz9YjE5",
        "outputId": "b1520f08-e85e-4e23-b15d-d4df2f1efbe9"
      },
      "source": [
        "df.select(to_date(col('Christmas'), 'dd/MMM/yyyy HH:mm:ss'), to_timestamp(col('Christmas'), 'dd/MMM/yyyy HH:mm:ss')).show(1)"
      ],
      "execution_count": 43,
      "outputs": [
        {
          "output_type": "stream",
          "text": [
            "+----------------------------------------+---------------------------------------------+\n",
            "|to_date(Christmas, dd/MMM/yyyy HH:mm:ss)|to_timestamp(Christmas, dd/MMM/yyyy HH:mm:ss)|\n",
            "+----------------------------------------+---------------------------------------------+\n",
            "|                              2019-12-25|                          2019-12-25 13:30:00|\n",
            "+----------------------------------------+---------------------------------------------+\n",
            "\n"
          ],
          "name": "stdout"
        }
      ]
    },
    {
      "cell_type": "code",
      "metadata": {
        "colab": {
          "base_uri": "https://localhost:8080/"
        },
        "id": "kDUYBoj9rMau",
        "outputId": "932da8f8-2a59-4d74-a82b-741524bd8622"
      },
      "source": [
        "!wget -O police-station.csv https://data.cityofchicago.org/api/views/z8bn-74gv/rows.csv?accessType=DOWNLOAD\n",
        "!ls -l"
      ],
      "execution_count": 44,
      "outputs": [
        {
          "output_type": "stream",
          "text": [
            "--2021-04-27 14:47:10--  https://data.cityofchicago.org/api/views/z8bn-74gv/rows.csv?accessType=DOWNLOAD\n",
            "Resolving data.cityofchicago.org (data.cityofchicago.org)... 52.206.140.199, 52.206.140.205, 52.206.68.26\n",
            "Connecting to data.cityofchicago.org (data.cityofchicago.org)|52.206.140.199|:443... connected.\n",
            "HTTP request sent, awaiting response... 200 OK\n",
            "Length: unspecified [text/csv]\n",
            "Saving to: ‘police-station.csv’\n",
            "\n",
            "police-station.csv      [ <=>                ]   5.57K  --.-KB/s    in 0s      \n",
            "\n",
            "2021-04-27 14:47:10 (462 MB/s) - ‘police-station.csv’ saved [5699]\n",
            "\n",
            "total 219392\n",
            "-rw-r--r--  1 root root      5699 Aug 19  2019 police-station.csv\n",
            "-rw-r--r--  1 root root    263894 Apr 27 11:23 reported-crimes.csv\n",
            "drwxr-xr-x  1 root root      4096 Apr 21 13:39 sample_data\n",
            "drwxr-xr-x 13 1000 1000      4096 Feb 22 02:44 spark-3.1.1-bin-hadoop2.7\n",
            "-rw-r--r--  1 root root 224374704 Feb 22 02:45 spark-3.1.1-bin-hadoop2.7.tgz\n"
          ],
          "name": "stdout"
        }
      ]
    },
    {
      "cell_type": "code",
      "metadata": {
        "colab": {
          "base_uri": "https://localhost:8080/"
        },
        "id": "q-WcnIrQsd85",
        "outputId": "f512aa3a-fdf6-42e1-cc44-e11247048789"
      },
      "source": [
        "ps = spark.read.csv('police-station.csv', header=True)\n",
        "ps.show(5)"
      ],
      "execution_count": 45,
      "outputs": [
        {
          "output_type": "stream",
          "text": [
            "+------------+-------------+-------------------+-------+-----+-----+--------------------+------------+------------+------------+------------+------------+-----------+------------+--------------------+\n",
            "|    DISTRICT|DISTRICT NAME|            ADDRESS|   CITY|STATE|  ZIP|             WEBSITE|       PHONE|         FAX|         TTY|X COORDINATE|Y COORDINATE|   LATITUDE|   LONGITUDE|            LOCATION|\n",
            "+------------+-------------+-------------------+-------+-----+-----+--------------------+------------+------------+------------+------------+------------+-----------+------------+--------------------+\n",
            "|Headquarters| Headquarters|3510 S Michigan Ave|Chicago|   IL|60653|http://home.chica...|        null|        null|        null| 1177731.401| 1881697.404|41.83070169|-87.62339535|(41.8307016873, -...|\n",
            "|          18|   Near North| 1160 N Larrabee St|Chicago|   IL|60610|http://home.chica...|312-742-5870|312-742-5771|312-742-5773| 1172080.029| 1908086.527|41.90324165|-87.64335214|(41.9032416531, -...|\n",
            "|          19|    Town Hall|   850 W Addison St|Chicago|   IL|60613|http://home.chica...|312-744-8320|312-744-4481|312-744-8011| 1169730.744| 1924160.317|41.94740046|-87.65151202|(41.9474004564, -...|\n",
            "|          20|      Lincoln| 5400 N Lincoln Ave|Chicago|   IL|60625|http://home.chica...|312-742-8714|312-742-8803|312-742-8841| 1158399.146| 1935788.826|41.97954951|-87.69284451|(41.9795495131, -...|\n",
            "|          22|  Morgan Park|1900 W Monterey Ave|Chicago|   IL|60643|http://home.chica...|312-745-0710|312-745-0814|312-745-0569| 1165825.476| 1830851.333|41.69143478|-87.66852039|(41.6914347795, -...|\n",
            "+------------+-------------+-------------------+-------+-----+-----+--------------------+------------+------------+------------+------------+------------+-----------+------------+--------------------+\n",
            "only showing top 5 rows\n",
            "\n"
          ],
          "name": "stdout"
        }
      ]
    },
    {
      "cell_type": "code",
      "metadata": {
        "colab": {
          "base_uri": "https://localhost:8080/"
        },
        "id": "txhW-qGisry8",
        "outputId": "067774cf-38ae-417f-c1ce-e40016569ade"
      },
      "source": [
        "one_day.cache()\n",
        "one_day.count()"
      ],
      "execution_count": 46,
      "outputs": [
        {
          "output_type": "execute_result",
          "data": {
            "text/plain": [
              "1129"
            ]
          },
          "metadata": {
            "tags": []
          },
          "execution_count": 46
        }
      ]
    },
    {
      "cell_type": "code",
      "metadata": {
        "colab": {
          "base_uri": "https://localhost:8080/"
        },
        "id": "Lw4rTcCoszPR",
        "outputId": "dd7da333-13d0-4906-cc52-7d6f77a57e68"
      },
      "source": [
        "ps.select(col('DISTRICT')).distinct().show(30)"
      ],
      "execution_count": 47,
      "outputs": [
        {
          "output_type": "stream",
          "text": [
            "+--------------------+\n",
            "|            DISTRICT|\n",
            "+--------------------+\n",
            "|                   7|\n",
            "|                  15|\n",
            "|                  11|\n",
            "|                   3|\n",
            "|                   8|\n",
            "|                  22|\n",
            "|                  16|\n",
            "|                   5|\n",
            "|                  18|\n",
            "|                  17|\n",
            "|                   6|\n",
            "|                  19|\n",
            "|                  25|\n",
            "|        Headquarters|\n",
            "|                  24|\n",
            "|                   9|\n",
            "|                   1|\n",
            "|                  20|\n",
            "|                  10|\n",
            "|                   4|\n",
            "|                  12|\n",
            "|                  14|\n",
            "|                   2|\n",
            "|\",Chicago,IL,6060...|\n",
            "+--------------------+\n",
            "\n"
          ],
          "name": "stdout"
        }
      ]
    },
    {
      "cell_type": "code",
      "metadata": {
        "colab": {
          "base_uri": "https://localhost:8080/"
        },
        "id": "5t_GLheAs7XF",
        "outputId": "72423791-3336-41ea-edf2-7367e5d312e4"
      },
      "source": [
        "rc.select('FBI Code').distinct().show(30)"
      ],
      "execution_count": 48,
      "outputs": [
        {
          "output_type": "stream",
          "text": [
            "+--------+\n",
            "|FBI Code|\n",
            "+--------+\n",
            "|      07|\n",
            "|      15|\n",
            "|      11|\n",
            "|     08B|\n",
            "|      22|\n",
            "|      16|\n",
            "|      18|\n",
            "|     04B|\n",
            "|      17|\n",
            "|      26|\n",
            "|      05|\n",
            "|      03|\n",
            "|      02|\n",
            "|     04A|\n",
            "|      06|\n",
            "|      24|\n",
            "|      20|\n",
            "|      10|\n",
            "|FBI Code|\n",
            "|      14|\n",
            "|     08A|\n",
            "+--------+\n",
            "\n"
          ],
          "name": "stdout"
        }
      ]
    },
    {
      "cell_type": "code",
      "metadata": {
        "colab": {
          "base_uri": "https://localhost:8080/"
        },
        "id": "gOZQiudqzxnu",
        "outputId": "fd34fb4a-ddcc-4f2d-fad8-68d1be73627f"
      },
      "source": [
        "!wget -O community-area.csv https://data.cityofchicago.org/api/views/igwz-8jzy/rows.csv?accessType=DOWNLOAD\n",
        "!ls"
      ],
      "execution_count": 49,
      "outputs": [
        {
          "output_type": "stream",
          "text": [
            "--2021-04-27 14:47:42--  https://data.cityofchicago.org/api/views/igwz-8jzy/rows.csv?accessType=DOWNLOAD\n",
            "Resolving data.cityofchicago.org (data.cityofchicago.org)... 52.206.68.26, 52.206.140.199, 52.206.140.205\n",
            "Connecting to data.cityofchicago.org (data.cityofchicago.org)|52.206.68.26|:443... connected.\n",
            "HTTP request sent, awaiting response... 200 OK\n",
            "Length: unspecified [text/csv]\n",
            "Saving to: ‘community-area.csv’\n",
            "\n",
            "community-area.csv      [        <=>         ]   1.92M  1.20MB/s    in 1.6s    \n",
            "\n",
            "2021-04-27 14:47:44 (1.20 MB/s) - ‘community-area.csv’ saved [2009107]\n",
            "\n",
            "community-area.csv  reported-crimes.csv  spark-3.1.1-bin-hadoop2.7\n",
            "police-station.csv  sample_data\t\t spark-3.1.1-bin-hadoop2.7.tgz\n"
          ],
          "name": "stdout"
        }
      ]
    },
    {
      "cell_type": "code",
      "metadata": {
        "colab": {
          "base_uri": "https://localhost:8080/"
        },
        "id": "gCl8vdEmz8Kx",
        "outputId": "8520fefd-384d-44ec-ebbf-4f831cdc9ae3"
      },
      "source": [
        "ca = spark.read.csv('community-area.csv', header=True)\n",
        "ca.show(5)"
      ],
      "execution_count": 50,
      "outputs": [
        {
          "output_type": "stream",
          "text": [
            "+--------------------+---------+----+--------+----------+----------+---------------+----------+-------------+-------------+\n",
            "|            the_geom|PERIMETER|AREA|COMAREA_|COMAREA_ID|AREA_NUMBE|      COMMUNITY|AREA_NUM_1|   SHAPE_AREA|    SHAPE_LEN|\n",
            "+--------------------+---------+----+--------+----------+----------+---------------+----------+-------------+-------------+\n",
            "|MULTIPOLYGON (((-...|        0|   0|       0|         0|        35|        DOUGLAS|        35|46004621.1581|31027.0545098|\n",
            "|MULTIPOLYGON (((-...|        0|   0|       0|         0|        36|        OAKLAND|        36|16913961.0408|19565.5061533|\n",
            "|MULTIPOLYGON (((-...|        0|   0|       0|         0|        37|    FULLER PARK|        37|19916704.8692|25339.0897503|\n",
            "|MULTIPOLYGON (((-...|        0|   0|       0|         0|        38|GRAND BOULEVARD|        38|48492503.1554|28196.8371573|\n",
            "|MULTIPOLYGON (((-...|        0|   0|       0|         0|        39|        KENWOOD|        39|29071741.9283|23325.1679062|\n",
            "+--------------------+---------+----+--------+----------+----------+---------------+----------+-------------+-------------+\n",
            "only showing top 5 rows\n",
            "\n"
          ],
          "name": "stdout"
        }
      ]
    },
    {
      "cell_type": "code",
      "metadata": {
        "colab": {
          "base_uri": "https://localhost:8080/"
        },
        "id": "SKpatEfS0LjI",
        "outputId": "7c13708c-de0e-45b4-d308-84def2956a14"
      },
      "source": [
        "ca.select('AREA_NUMBE').distinct().show()"
      ],
      "execution_count": 51,
      "outputs": [
        {
          "output_type": "stream",
          "text": [
            "+----------+\n",
            "|AREA_NUMBE|\n",
            "+----------+\n",
            "|        51|\n",
            "|         7|\n",
            "|        15|\n",
            "|        54|\n",
            "|        11|\n",
            "|        29|\n",
            "|        69|\n",
            "|        42|\n",
            "|        73|\n",
            "|        64|\n",
            "|         3|\n",
            "|        30|\n",
            "|        34|\n",
            "|        59|\n",
            "|         8|\n",
            "|        22|\n",
            "|        28|\n",
            "|        35|\n",
            "|        16|\n",
            "|        52|\n",
            "+----------+\n",
            "only showing top 20 rows\n",
            "\n"
          ],
          "name": "stdout"
        }
      ]
    },
    {
      "cell_type": "code",
      "metadata": {
        "colab": {
          "base_uri": "https://localhost:8080/"
        },
        "id": "bpgu4SUr0hoB",
        "outputId": "9ab92f6c-0d32-46cd-f490-05eac8c4edb8"
      },
      "source": [
        "rc.select('Community Area').distinct().show()"
      ],
      "execution_count": 52,
      "outputs": [
        {
          "output_type": "stream",
          "text": [
            "+--------------+\n",
            "|Community Area|\n",
            "+--------------+\n",
            "|            34|\n",
            "|            35|\n",
            "|            60|\n",
            "|Community Area|\n",
            "|            33|\n",
            "+--------------+\n",
            "\n"
          ],
          "name": "stdout"
        }
      ]
    },
    {
      "cell_type": "code",
      "metadata": {
        "colab": {
          "base_uri": "https://localhost:8080/"
        },
        "id": "lVOQRVPD0xy7",
        "outputId": "ab1703a8-1671-44d9-a1fe-3027ab974b94"
      },
      "source": [
        "ca.select('AREA_NUMBE').count()"
      ],
      "execution_count": 53,
      "outputs": [
        {
          "output_type": "execute_result",
          "data": {
            "text/plain": [
              "77"
            ]
          },
          "metadata": {
            "tags": []
          },
          "execution_count": 53
        }
      ]
    },
    {
      "cell_type": "code",
      "metadata": {
        "colab": {
          "base_uri": "https://localhost:8080/",
          "height": 172
        },
        "id": "ACVYF_pn3x3j",
        "outputId": "0ad6fff1-1509-46f5-b39c-f933dc5ba502"
      },
      "source": [
        "rc.join(ca, rc(col('Community Area')) == ca.AREA_NUMBE, 'left_outer').show()"
      ],
      "execution_count": 54,
      "outputs": [
        {
          "output_type": "error",
          "ename": "TypeError",
          "evalue": "ignored",
          "traceback": [
            "\u001b[0;31m---------------------------------------------------------------------------\u001b[0m",
            "\u001b[0;31mTypeError\u001b[0m                                 Traceback (most recent call last)",
            "\u001b[0;32m<ipython-input-54-87b586a6a67f>\u001b[0m in \u001b[0;36m<module>\u001b[0;34m()\u001b[0m\n\u001b[0;32m----> 1\u001b[0;31m \u001b[0mrc\u001b[0m\u001b[0;34m.\u001b[0m\u001b[0mjoin\u001b[0m\u001b[0;34m(\u001b[0m\u001b[0mca\u001b[0m\u001b[0;34m,\u001b[0m \u001b[0mrc\u001b[0m\u001b[0;34m(\u001b[0m\u001b[0mcol\u001b[0m\u001b[0;34m(\u001b[0m\u001b[0;34m'Community Area'\u001b[0m\u001b[0;34m)\u001b[0m\u001b[0;34m)\u001b[0m \u001b[0;34m==\u001b[0m \u001b[0mca\u001b[0m\u001b[0;34m.\u001b[0m\u001b[0mAREA_NUMBE\u001b[0m\u001b[0;34m,\u001b[0m \u001b[0;34m'left_outer'\u001b[0m\u001b[0;34m)\u001b[0m\u001b[0;34m.\u001b[0m\u001b[0mshow\u001b[0m\u001b[0;34m(\u001b[0m\u001b[0;34m)\u001b[0m\u001b[0;34m\u001b[0m\u001b[0;34m\u001b[0m\u001b[0m\n\u001b[0m",
            "\u001b[0;31mTypeError\u001b[0m: 'DataFrame' object is not callable"
          ]
        }
      ]
    },
    {
      "cell_type": "markdown",
      "metadata": {
        "id": "ws407wEM-Rmn"
      },
      "source": [
        "THE MOST FREQUENTLY REPORTED NON-CRIMINAL ACTIVITY"
      ]
    },
    {
      "cell_type": "code",
      "metadata": {
        "colab": {
          "base_uri": "https://localhost:8080/"
        },
        "id": "OgpR-0H3-XZ4",
        "outputId": "c8f84d71-0c94-4afc-9546-71162d00d821"
      },
      "source": [
        "rc.cache()\n",
        "rc.count()"
      ],
      "execution_count": 55,
      "outputs": [
        {
          "output_type": "execute_result",
          "data": {
            "text/plain": [
              "1130"
            ]
          },
          "metadata": {
            "tags": []
          },
          "execution_count": 55
        }
      ]
    },
    {
      "cell_type": "code",
      "metadata": {
        "colab": {
          "base_uri": "https://localhost:8080/"
        },
        "id": "V-F5nbBY-eLk",
        "outputId": "161a0c84-fc8e-48ce-afb3-feb97b9abf27"
      },
      "source": [
        "rc.select(col('Primary Type')).distinct().count()"
      ],
      "execution_count": 56,
      "outputs": [
        {
          "output_type": "execute_result",
          "data": {
            "text/plain": [
              "21"
            ]
          },
          "metadata": {
            "tags": []
          },
          "execution_count": 56
        }
      ]
    },
    {
      "cell_type": "code",
      "metadata": {
        "colab": {
          "base_uri": "https://localhost:8080/"
        },
        "id": "3wGZBF6P-m2E",
        "outputId": "d2f73607-18be-4338-89b2-4edfc52a3071"
      },
      "source": [
        "rc.select(col('Primary Type')).distinct().orderBy(col('Primary Type')).show(20, truncate=False)"
      ],
      "execution_count": 57,
      "outputs": [
        {
          "output_type": "stream",
          "text": [
            "+--------------------------+\n",
            "|Primary Type              |\n",
            "+--------------------------+\n",
            "|ASSAULT                   |\n",
            "|BATTERY                   |\n",
            "|BURGLARY                  |\n",
            "|CRIM SEXUAL ASSAULT       |\n",
            "|CRIMINAL DAMAGE           |\n",
            "|CRIMINAL TRESPASS         |\n",
            "|DECEPTIVE PRACTICE        |\n",
            "|INTIMIDATION              |\n",
            "|LIQUOR LAW VIOLATION      |\n",
            "|MOTOR VEHICLE THEFT       |\n",
            "|NARCOTICS                 |\n",
            "|OBSCENITY                 |\n",
            "|OFFENSE INVOLVING CHILDREN|\n",
            "|OTHER OFFENSE             |\n",
            "|PROSTITUTION              |\n",
            "|PUBLIC PEACE VIOLATION    |\n",
            "|Primary Type              |\n",
            "|ROBBERY                   |\n",
            "|SEX OFFENSE               |\n",
            "|THEFT                     |\n",
            "+--------------------------+\n",
            "only showing top 20 rows\n",
            "\n"
          ],
          "name": "stdout"
        }
      ]
    },
    {
      "cell_type": "code",
      "metadata": {
        "colab": {
          "base_uri": "https://localhost:8080/"
        },
        "id": "5gYss2rz_KoP",
        "outputId": "7ba85b4d-70d4-44da-a14a-549e9dd7f81e"
      },
      "source": [
        "rc.groupBy(col('Description')).count().orderBy('count', ascending=False).show()"
      ],
      "execution_count": 58,
      "outputs": [
        {
          "output_type": "stream",
          "text": [
            "+--------------------+-----+\n",
            "|         Description|count|\n",
            "+--------------------+-----+\n",
            "|           OVER $500|  172|\n",
            "|      $500 AND UNDER|  166|\n",
            "|          AUTOMOBILE|   94|\n",
            "|          TO VEHICLE|   92|\n",
            "|              SIMPLE|   84|\n",
            "|      FORCIBLE ENTRY|   63|\n",
            "|THEFT OF LABOR/SE...|   50|\n",
            "|DOMESTIC BATTERY ...|   43|\n",
            "|         TO PROPERTY|   37|\n",
            "|STRONGARM - NO WE...|   33|\n",
            "|       FROM BUILDING|   27|\n",
            "|      UNLAWFUL ENTRY|   19|\n",
            "|    TELEPHONE THREAT|   15|\n",
            "|             TO LAND|   13|\n",
            "|      POCKET-PICKING|   11|\n",
            "|   CREDIT CARD FRAUD|   11|\n",
            "| CRIMINAL DEFACEMENT|   10|\n",
            "|FRAUD OR CONFIDEN...|    9|\n",
            "|POSS: CANNABIS 30...|    9|\n",
            "|      ARMED: HANDGUN|    8|\n",
            "+--------------------+-----+\n",
            "only showing top 20 rows\n",
            "\n"
          ],
          "name": "stdout"
        }
      ]
    },
    {
      "cell_type": "markdown",
      "metadata": {
        "id": "bWt8AbcKCtaK"
      },
      "source": [
        "****************************************************************************\n",
        "**RDD**"
      ]
    },
    {
      "cell_type": "code",
      "metadata": {
        "colab": {
          "base_uri": "https://localhost:8080/",
          "height": 36
        },
        "id": "pjaiyi_ICr5w",
        "outputId": "224447fd-ca9c-4569-f8c3-50e0c1d4a8e3"
      },
      "source": [
        "cardd = sc.textFile('community-area.csv')\n",
        "cardd.first()"
      ],
      "execution_count": 59,
      "outputs": [
        {
          "output_type": "execute_result",
          "data": {
            "application/vnd.google.colaboratory.intrinsic+json": {
              "type": "string"
            },
            "text/plain": [
              "'the_geom,PERIMETER,AREA,COMAREA_,COMAREA_ID,AREA_NUMBE,COMMUNITY,AREA_NUM_1,SHAPE_AREA,SHAPE_LEN'"
            ]
          },
          "metadata": {
            "tags": []
          },
          "execution_count": 59
        }
      ]
    },
    {
      "cell_type": "code",
      "metadata": {
        "id": "LIOKqhH7DEm_"
      },
      "source": [
        "ca_header = cardd.first()"
      ],
      "execution_count": 60,
      "outputs": []
    },
    {
      "cell_type": "code",
      "metadata": {
        "colab": {
          "base_uri": "https://localhost:8080/",
          "height": 146
        },
        "id": "9vRBAD8XD1TV",
        "outputId": "c4f54082-6e02-4923-bbbe-dbf3b821e710"
      },
      "source": [
        "ca_rest = cardd.filter(lambda line: line!= ca_header)\n",
        "ca_rest.first()"
      ],
      "execution_count": 61,
      "outputs": [
        {
          "output_type": "execute_result",
          "data": {
            "application/vnd.google.colaboratory.intrinsic+json": {
              "type": "string"
            },
            "text/plain": [
              "'\"MULTIPOLYGON (((-87.60914087617894 41.84469250265398, -87.60914874757808 41.84466159842403, -87.6091611204126 41.84458961193954, -87.60916766215838 41.84451717732316, -87.60916860600166 41.844456260738305, -87.60915012199398 41.84423871659811, -87.60907241249289 41.844194738881015, -87.60900627147821 41.84410646928696, -87.6089650217216 41.84404345755115, -87.60891566390615 41.84395529375054, -87.60889980118988 41.84387361649532, -87.60886701371862 41.84380438280048, -87.6088514342449 41.843697606960866, -87.60881089281094 41.84357184776641, -87.60877127222787 41.84336451715353, -87.6087215608253 41.84330772696518, -87.6086722038968 41.8432195630558, -87.60858152789015 41.84307466210119, -87.60847385682872 41.84294847915887, -87.60839135990155 41.842822455284654, -87.60826740295646 41.842652243366025, -87.6081767282837 41.8425073420888, -87.60806913018423 41.84237488419488, -87.60801956189378 41.84230554400334, -87.60802097919012 41.84218004974061, -87.60799814396883 41.841972824540626, -87.60797502577404 41.841790698735295, -87.60797665573624 41.84164638018418, -87.60797814395544 41.84151461078273, -87.60797949042825 41.841395391080624, -87.60794734337547 41.841269684549616, -87.60789016476892 41.841131269858444, -87.60784934325733 41.841030609153385, -87.60773349881661 41.84088554850424, -87.60765630433343 41.84076193793285, -87.60757583127271 41.84063821932318, -87.6075276050287 41.84056030772689, -87.60698398203986 41.8406673852424, -87.60667816425287 41.84056137258804, -87.6067136151486 41.8405034355691, -87.60699497654772 41.8406001098064, -87.60750090432951 41.84050284488112, -87.60746117926243 41.84045994995043, -87.6074422035133 41.8404185047603, -87.60743327042276 41.840393959622695, -87.60743661712895 41.840369491545005, -87.60743928899147 41.840365281721716, -87.60745016250611 41.84034814941911, -87.60741319770523 41.84026855755554, -87.6073479140525 41.8401049906963, -87.60721091962495 41.839651627989795, -87.60709523007235 41.83951203695919, -87.6070048463328 41.83945657994122, -87.6069413139757 41.839428186975006, -87.60690335604389 41.83940983506439, -87.60682817415362 41.83937313502478, -87.60676104002668 41.83933868152847, -87.6067012650412 41.839302628268136, -87.60666194501849 41.83927493662529, -87.60662047337766 41.83924284081271, -87.60658411311552 41.83921297273568, -87.60651223400238 41.839143911110426, -87.60649228113142 41.83912449626031, -87.60646795004266 41.83910082122609, -87.60645125093528 41.8390847982843, -87.60615627839611 41.838635021124844, -87.60614048964922 41.83863856938326, -87.60470984485778 41.83896006065134, -87.60427773013896 41.83958213897359, -87.60427494700933 41.83982732700224, -87.60418506322291 41.839828572849825, -87.60419546274869 41.83955437173228, -87.6046670348703 41.83887987015849, -87.6061349887994 41.838551275839215, -87.60613594090006 41.838521050813995, -87.60612905110638 41.838439168115144, -87.60611500648443 41.83829878378583, -87.60610096228648 41.83815839945421, -87.60607903537436 41.838023811031206, -87.60610453595177 41.83784275712224, -87.606098903652 41.83764981525618, -87.6060854548612 41.83745682361732, -87.60607167523855 41.837293058456886, -87.60601914567565 41.83709981933828, -87.6059748958184 41.83686571348489, -87.60591474903025 41.83665488941116, -87.60588836937116 41.83657303828816, -87.60584678660146 41.83644401552207, -87.60577014757045 41.83630908017949, -87.60565502444967 41.83612129017827, -87.60551618882357 41.835956732012164, -87.605308267931 41.835680669196044, -87.60509186989756 41.83546300860147, -87.60482102658287 41.835221619239185, -87.60464298237355 41.83506850350857, -87.60455786851962 41.834991969650574, -87.60454429254064 41.83481066860084, -87.60473439460594 41.83458973976794, -87.60503332163134 41.83442211178847, -87.60499603131495 41.8342640426192, -87.60494390499075 41.834035731872085, -87.60486846410286 41.83379558184427, -87.60474559827315 41.83360189620019, -87.60463015102505 41.833443331091175, -87.604553054253 41.83334931168295, -87.60443687878075 41.833255043960676, -87.60435156855912 41.833196046173526, -87.60422718000717 41.83313680026707, -87.60407152848585 41.833077355735895, -87.60391567815884 41.83303544639763, -87.60375168052485 41.83302271342319, -87.60361099735938 41.83302181972346, -87.60348607822625 41.8330093349105, -87.60335367562936 41.832967573800744, -87.60322922202496 41.832914171955366, -87.60312848114357 41.832837538231495, -87.60301244159074 41.83273157881759, -87.6029122993678 41.83260233760942, -87.6027965268307 41.83247299689993, -87.60270433428013 41.8323321149557, -87.60270539787906 41.8322385911775, -87.6027308385819 41.832063383573455, -87.60276449415319 41.83185315432156, -87.60276542470949 41.831771321076374, -87.60273575745133 41.83163083681798, -87.60272953768576 41.83149050142202, -87.60271020373473 41.83136624686849, -87.60279792684253 41.831366205493254, -87.60295002259089 41.83133289168212, -87.60583494110023 41.831233947813665, -87.60604987532471 41.8312328435106, -87.60620267769549 41.831238201487615, -87.60670209233 41.83123285448887, -87.606867209866 41.831232869841756, -87.60721395667723 41.83123300421992, -87.60749035997108 41.83121711934547, -87.60828613364302 41.831209305504984, -87.60903306355263 41.8312019660337, -87.60939573919717 41.83119840059783, -87.61063335779062 41.83118622461551, -87.61100082838723 41.82977587052868, -87.61100977742004 41.829746837592936, -87.61102002075548 41.82971690718809, -87.61108240937965 41.82949383396628, -87.61127644643562 41.82879669316715, -87.6112769297158 41.82879495798718, -87.61129507044366 41.82872977935159, -87.61129609251971 41.828726102971636, -87.61133106844254 41.8286004419779, -87.61141795484548 41.828288268551084, -87.6114194096817 41.828283040811726, -87.61148308354647 41.82805426402368, -87.61152417890156 41.827906610717164, -87.61162668483897 41.82753625992378, -87.61168992270575 41.827307782942455, -87.61184008668512 41.826766349392365, -87.6118869698757 41.826594073939546, -87.61194857940868 41.82636768508939, -87.61205793722819 41.825972922946335, -87.61212792870876 41.825722741393655, -87.61225564053575 41.82526241103294, -87.612371284661 41.82484022992761, -87.61257695182505 41.82408938703784, -87.61262427240324 41.82389080436826, -87.6130758654639 41.82388477547809, -87.61436403578777 41.82386898740089, -87.61514774092865 41.82385938125493, -87.61547482918266 41.823855371507904, -87.61610922732862 41.82384759153282, -87.61673229764081 41.823838138571745, -87.6169968247584 41.82383410684318, -87.61725854542576 41.823830117109004, -87.61770996887728 41.82382323440645, -87.61794972729895 41.82382029480847, -87.61821435998765 41.82381704991014, -87.61855131811477 41.82381291721503, -87.61886174704809 41.82380910891891, -87.6191776059241 41.82380522981068, -87.61998816931428 41.82379527105946, -87.6203953593824 41.823790266119566, -87.62095332331943 41.82378340565402, -87.621601977331 41.82377526662078, -87.62222982586809 41.82376738535718, -87.62234636529709 41.8237659160261, -87.62240779067577 41.82376514143418, -87.62314672394419 41.82375582186965, -87.62426776090003 41.82374167382763, -87.62432122057882 41.82374128181012, -87.62446432460376 41.823739621387354, -87.62482271022685 41.82373573205627, -87.62497215617218 41.82373410984478, -87.62531936394625 41.823728676357206, -87.62559794622197 41.82372484976207, -87.62574361151339 41.823723113788866, -87.62591974777155 41.82372101452223, -87.62608002880258 41.82371873558156, -87.62642224681794 41.82371376337644, -87.62661202560267 41.823711005506475, -87.62698708871412 41.823708098430295, -87.62722493958559 41.82370489557261, -87.62759341436937 41.82369902364277, -87.62773448699598 41.823696775306935, -87.62806959946485 41.823690216380776, -87.62830656309072 41.82368758213177, -87.62861793055147 41.82368504138434, -87.62876532190948 41.82368383824463, -87.62896819971361 41.823681491629785, -87.6290244306088 41.82525934799594, -87.62903126474522 41.82545397858708, -87.62903952949067 41.82568941259352, -87.62904559798746 41.82588558267482, -87.62909202844186 41.827330175681396, -87.629078277241 41.82742323154351, -87.62904767937303 41.82751006493895, -87.6289882542485 41.82758239620534, -87.62893520544169 41.82763876746277, -87.62892312909783 41.827679390892364, -87.62893235142421 41.82785560198587, -87.62893682713786 41.8280296980469, -87.62894162229728 41.828254949754225, -87.62894615002593 41.82848127007687, -87.62894944329425 41.82864605580177, -87.62895135775234 41.82874004853824, -87.62895345039777 41.8288427894428, -87.62895931485161 41.82907433177236, -87.62896232305424 41.829190319373325, -87.62896563327081 41.829317951650516, -87.62897263322995 41.82958984164497, -87.62898034190802 41.82989077031297, -87.62898715371682 41.8301564021986, -87.62899259212473 41.83036985714663, -87.62899941197773 41.83064138923154, -87.62900366242076 41.830832745534224, -87.6289956829958 41.83097494947967, -87.62914494787348 41.83097286273807, -87.62924490110424 41.830971465313596, -87.62938395427692 41.83097119521164, -87.62947678531101 41.830971014650956, -87.62953047752917 41.83097091006582, -87.62956105280259 41.83097085070067, -87.62956551124786 41.83105962785828, -87.62958360079345 41.8317530083214, -87.62961050449962 41.832772324761066, -87.62961560755922 41.832976461301044, -87.62962110403036 41.83320906924982, -87.62962751662482 41.83348044993503, -87.62964438186586 41.83416010127783, -87.62964450669803 41.834164516741104, -87.62965495205756 41.83453510117711, -87.62965689611431 41.83461359383559, -87.62965717450093 41.834624827815304, -87.62966239819558 41.83481301289367, -87.62966276949251 41.834826384400785, -87.62968729954912 41.835811382721865, -87.62969845481213 41.83620399301686, -87.62972206129456 41.83703485087789, -87.62973867443164 41.837568129220855, -87.62976040512385 41.8382656717337, -87.62976266727085 41.838353031903786, -87.62978240745022 41.83909986471921, -87.62978731526665 41.839285545769336, -87.62979312536777 41.8395088959655, -87.62980089974609 41.8398042945127, -87.62981523196885 41.84033848453514, -87.62982944639644 41.84086397914195, -87.62984200586298 41.84132829754799, -87.62985750747164 41.84171396118601, -87.62986099278226 41.84183507881404, -87.6298630971705 41.841908213085944, -87.62986619608758 41.84201589244176, -87.6298755442474 41.842337156372686, -87.62988457175123 41.842786172707804, -87.62990488053723 41.843344479660935, -87.6299142509396 41.84376221345144, -87.62992853162326 41.844275668802176, -87.6299306071144 41.844346292142035, -87.62994472511954 41.84479973030914, -87.62996222540512 41.84541345389926, -87.62996524445613 41.84554483294518, -87.62996524440503 41.8455448376101, -87.62978701013436 41.84554551930566, -87.62946563465283 41.84555305828908, -87.62916818464839 41.845556605816, -87.6287270019684 41.84556186641418, -87.62846068796401 41.84556618736959, -87.62812269392072 41.84557078962573, -87.6279175403243 41.845573582786784, -87.62765212480178 41.84557628827242, -87.62723696033879 41.84557971917767, -87.62696086827799 41.84558510580382, -87.626759948515 41.84558902557868, -87.6263770885952 41.84559649351904, -87.62626462170768 41.845598321530275, -87.62619207701408 41.84559950033062, -87.62618268755014 41.845599653005316, -87.6261438181312 41.84560028470999, -87.62613206505814 41.84560047579133, -87.62610277231113 41.84560095184785, -87.62579736038988 41.84560626078572, -87.62553890384234 41.845610239172636, -87.6253261003465 41.84561360323313, -87.62479326359232 41.8456220249375, -87.62446484494104 41.84562673998775, -87.62417259011782 41.84563048858288, -87.62407957621411 41.84563171639113, -87.62363620477177 41.845638283661515, -87.62339191457188 41.84564190127839, -87.62213772959383 41.84566047015669, -87.6204813312996 41.84568496332577, -87.62033059868752 41.84568719127351, -87.61886420373885 41.84571019803325, -87.61783987812659 41.84572625798535, -87.61767140560433 41.84572320256934, -87.61729852317009 41.8456681813441, -87.6172098519016 41.84565509712538, -87.61692091130472 41.84564451357035, -87.61666117918084 41.845644375074734, -87.61661825064743 41.845643283921696, -87.6165950318313 41.84564215109581, -87.61657183470187 41.84563904253457, -87.6165506643851 41.84563194000045, -87.61652626796287 41.84561787435471, -87.61650393113958 41.84559687858458, -87.61647763860628 41.84557187894618, -87.61645798626154 41.8455503785129, -87.61643788913666 41.84552604871384, -87.61625954807323 41.84523118998587, -87.6162377994153 41.84520023617664, -87.61621749508849 41.845178045565824, -87.61619627183542 41.84515916976654, -87.61616875933031 41.84514162682185, -87.61613940345198 41.8451280515347, -87.61610021213887 41.845114442263544, -87.61607353456458 41.845104231954615, -87.61603520097006 41.845095979047386, -87.61600840420323 41.845093122317444, -87.61596180512016 41.845092172650496, -87.6151126399903 41.845106871334245, -87.61499270629601 41.845109933063014, -87.61500079131932 41.84516621622945, -87.6140006899687 41.84516647456036, -87.61350109943994 41.845166431553054, -87.61240099157794 41.845166392439836, -87.61192963329063 41.84522518051949, -87.61158088907992 41.84526623463236, -87.61141060498178 41.84526654890619, -87.61112256411772 41.84526643893846, -87.61091654922386 41.845266448213025, -87.60940614540634 41.845266503985904, -87.60940949182275 41.845217733268264, -87.60937658092277 41.84515338263664, -87.60914087617894 41.84469250265398)))\",0,0,0,0,35,DOUGLAS,35,46004621.1581,31027.0545098'"
            ]
          },
          "metadata": {
            "tags": []
          },
          "execution_count": 61
        }
      ]
    },
    {
      "cell_type": "code",
      "metadata": {
        "colab": {
          "base_uri": "https://localhost:8080/"
        },
        "id": "8S_BVsH3EGhe",
        "outputId": "cb872186-6346-4491-a984-3dd1491b59c6"
      },
      "source": [
        "ca_rest.map(lambda line: line.split(',')).count()"
      ],
      "execution_count": 62,
      "outputs": [
        {
          "output_type": "execute_result",
          "data": {
            "text/plain": [
              "77"
            ]
          },
          "metadata": {
            "tags": []
          },
          "execution_count": 62
        }
      ]
    },
    {
      "cell_type": "code",
      "metadata": {
        "id": "Yz0kWp_azjnS"
      },
      "source": [
        ""
      ],
      "execution_count": null,
      "outputs": []
    }
  ]
}