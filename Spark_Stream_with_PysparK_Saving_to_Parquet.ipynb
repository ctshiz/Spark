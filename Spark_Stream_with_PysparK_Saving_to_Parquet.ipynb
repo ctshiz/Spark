{
  "nbformat": 4,
  "nbformat_minor": 0,
  "metadata": {
    "colab": {
      "name": "Spark Stream with PysparK Saving to Parquet.ipynb",
      "provenance": [],
      "collapsed_sections": [],
      "authorship_tag": "ABX9TyOqdbg8HVjsaVwo4N0J7ZAu",
      "include_colab_link": true
    },
    "kernelspec": {
      "name": "python3",
      "display_name": "Python 3"
    },
    "language_info": {
      "name": "python"
    }
  },
  "cells": [
    {
      "cell_type": "markdown",
      "metadata": {
        "id": "view-in-github",
        "colab_type": "text"
      },
      "source": [
        "<a href=\"https://colab.research.google.com/github/ctshiz/WORKSPACE_SPARK/blob/main/Spark_Stream_with_PysparK_Saving_to_Parquet.ipynb\" target=\"_parent\"><img src=\"https://colab.research.google.com/assets/colab-badge.svg\" alt=\"Open In Colab\"/></a>"
      ]
    },
    {
      "cell_type": "code",
      "source": [
        "#https://spark.apache.org/docs/latest/structured-streaming-programming-guide.html#output-sinks"
      ],
      "metadata": {
        "id": "PjVzSaNkb02j"
      },
      "execution_count": 93,
      "outputs": []
    },
    {
      "cell_type": "code",
      "execution_count": 94,
      "metadata": {
        "colab": {
          "base_uri": "https://localhost:8080/"
        },
        "id": "depJzoMcIt45",
        "outputId": "82c3ff31-c404-4b46-9a65-845ced2b2ed8"
      },
      "outputs": [
        {
          "output_type": "stream",
          "name": "stdout",
          "text": [
            "\r0% [Working]\r            \rGet:1 http://security.ubuntu.com/ubuntu bionic-security InRelease [88.7 kB]\n",
            "Get:2 https://cloud.r-project.org/bin/linux/ubuntu bionic-cran40/ InRelease [3,626 B]\n",
            "Hit:3 https://developer.download.nvidia.com/compute/cuda/repos/ubuntu1804/x86_64  InRelease\n",
            "Hit:4 http://archive.ubuntu.com/ubuntu bionic InRelease\n",
            "Ign:5 https://developer.download.nvidia.com/compute/machine-learning/repos/ubuntu1804/x86_64  InRelease\n",
            "Hit:6 https://developer.download.nvidia.com/compute/machine-learning/repos/ubuntu1804/x86_64  Release\n",
            "Get:7 http://archive.ubuntu.com/ubuntu bionic-updates InRelease [88.7 kB]\n",
            "Hit:8 http://ppa.launchpad.net/c2d4u.team/c2d4u4.0+/ubuntu bionic InRelease\n",
            "Get:9 http://archive.ubuntu.com/ubuntu bionic-backports InRelease [74.6 kB]\n",
            "Hit:10 http://ppa.launchpad.net/cran/libgit2/ubuntu bionic InRelease\n",
            "Hit:11 http://ppa.launchpad.net/deadsnakes/ppa/ubuntu bionic InRelease\n",
            "Hit:12 http://ppa.launchpad.net/graphics-drivers/ppa/ubuntu bionic InRelease\n",
            "Fetched 256 kB in 11s (22.5 kB/s)\n",
            "Reading package lists... Done\n",
            "Looking in indexes: https://pypi.org/simple, https://us-python.pkg.dev/colab-wheels/public/simple/\n",
            "Requirement already satisfied: pyspark in /usr/local/lib/python3.7/dist-packages (3.3.0)\n",
            "Requirement already satisfied: py4j==0.10.9.5 in /usr/local/lib/python3.7/dist-packages (from pyspark) (0.10.9.5)\n",
            "Looking in indexes: https://pypi.org/simple, https://us-python.pkg.dev/colab-wheels/public/simple/\n",
            "Requirement already satisfied: pyspark[sql] in /usr/local/lib/python3.7/dist-packages (3.3.0)\n",
            "Requirement already satisfied: py4j==0.10.9.5 in /usr/local/lib/python3.7/dist-packages (from pyspark[sql]) (0.10.9.5)\n",
            "Requirement already satisfied: pyarrow>=1.0.0 in /usr/local/lib/python3.7/dist-packages (from pyspark[sql]) (6.0.1)\n",
            "Requirement already satisfied: pandas>=1.0.5 in /usr/local/lib/python3.7/dist-packages (from pyspark[sql]) (1.3.5)\n",
            "Requirement already satisfied: pytz>=2017.3 in /usr/local/lib/python3.7/dist-packages (from pandas>=1.0.5->pyspark[sql]) (2022.1)\n",
            "Requirement already satisfied: numpy>=1.17.3 in /usr/local/lib/python3.7/dist-packages (from pandas>=1.0.5->pyspark[sql]) (1.21.6)\n",
            "Requirement already satisfied: python-dateutil>=2.7.3 in /usr/local/lib/python3.7/dist-packages (from pandas>=1.0.5->pyspark[sql]) (2.8.2)\n",
            "Requirement already satisfied: six>=1.5 in /usr/local/lib/python3.7/dist-packages (from python-dateutil>=2.7.3->pandas>=1.0.5->pyspark[sql]) (1.15.0)\n"
          ]
        }
      ],
      "source": [
        "!apt-get update\n",
        "!apt-get install openjdk-8-jdk-headless -qq > /dev/null\n",
        "!wget -q https://downloads.apache.org/spark/spark-3.2.2/spark-3.2.2-bin-hadoop2.7.tgz\n",
        "!tar xf spark-3.2.2-bin-hadoop2.7.tgz\n",
        "!pip install -q findspark\n",
        "!pip install pyspark\n",
        "!pip install pyspark[sql]"
      ]
    },
    {
      "cell_type": "code",
      "source": [
        "import pyspark\n",
        "from pyspark.sql import SparkSession\n",
        "spark =  SparkSession.builder.getOrCreate()\n",
        "import os\n",
        "os.environ[\"JAVA_HOME\"] = \"/user/lib/jvm/java-8-openjdk-amd64\"\n",
        "os.environ[\"SPARK_HOME\"] = \"/content/spark-3.2.2-bin-hadoop2.7\"\n",
        "\n",
        "import findspark\n",
        "import pyspark.sql.functions as F\n",
        "import pyspark.sql.types as T\n",
        "findspark.init()\n",
        "from pyspark import SparkContext\n",
        "sc = SparkContext.getOrCreate()\n"
      ],
      "metadata": {
        "id": "__9R8eAEIwzQ"
      },
      "execution_count": 95,
      "outputs": []
    },
    {
      "cell_type": "code",
      "source": [
        "#read the files\n",
        "from pyspark.sql.functions import to_timestamp, col, lit"
      ],
      "metadata": {
        "id": "_9wqgI8klxuB"
      },
      "execution_count": 97,
      "outputs": []
    },
    {
      "cell_type": "code",
      "source": [
        "#import data\n",
        "df =  spark.read.csv('stream1.csv', header=True)\n",
        "df = df.drop(\"_c0\",\"isFraud\", \"isFlaggedFraud\")\n",
        "df = df.filter(col(\"step\") <= 2)\n",
        "df = df.limit(5)"
      ],
      "metadata": {
        "id": "N9x6YNyVTesC"
      },
      "execution_count": 98,
      "outputs": []
    },
    {
      "cell_type": "code",
      "source": [
        "df.show()"
      ],
      "metadata": {
        "colab": {
          "base_uri": "https://localhost:8080/"
        },
        "id": "ZkQGYPkzq4a1",
        "outputId": "2c1dc5f2-0aff-4add-b60d-3aad4d3c2072"
      },
      "execution_count": 99,
      "outputs": [
        {
          "output_type": "stream",
          "name": "stdout",
          "text": [
            "+----+--------+--------+-----------+-------------+--------------+-----------+--------------+--------------+\n",
            "|step|    type|  amount|   nameOrig|oldbalanceOrg|newbalanceOrig|   nameDest|oldbalanceDest|newbalanceDest|\n",
            "+----+--------+--------+-----------+-------------+--------------+-----------+--------------+--------------+\n",
            "|   1| PAYMENT| 9839.64|C1231006815|     170136.0|     160296.36|M1979787155|           0.0|           0.0|\n",
            "|   1| PAYMENT| 1864.28|C1666544295|      21249.0|      19384.72|M2044282225|           0.0|           0.0|\n",
            "|   1|TRANSFER|   181.0|C1305486145|        181.0|           0.0| C553264065|           0.0|           0.0|\n",
            "|   1|CASH_OUT|   181.0| C840083671|        181.0|           0.0|  C38997010|       21182.0|           0.0|\n",
            "|   1| PAYMENT|11668.14|C2048537720|      41554.0|      29885.86|M1230701703|           0.0|           0.0|\n",
            "+----+--------+--------+-----------+-------------+--------------+-----------+--------------+--------------+\n",
            "\n"
          ]
        }
      ]
    },
    {
      "cell_type": "markdown",
      "source": [
        "Column **STEP** maps a unit of time in the real world. Let assume that 1 step is 1 hour of time. \n",
        "So we can assume for this example that we have another job that runs every hour and gets all the transactions in that time frame."
      ],
      "metadata": {
        "id": "Lq96AX5osE-e"
      }
    },
    {
      "cell_type": "code",
      "source": [
        "%%time\n",
        "steps = df.select(\"step\").distinct().collect()\n",
        "for step in steps[:]:\n",
        "  _df = df.where(f\"step ={step[0]}\")\n",
        "  _df.coalesce(1).write.mode(\"append\").option(\"header\", \"true\").csv(\"transaction_csv/paysim\")"
      ],
      "metadata": {
        "colab": {
          "base_uri": "https://localhost:8080/"
        },
        "id": "lR9N10k0TrNs",
        "outputId": "df8011d4-f90b-41b1-ead3-9165066855a3"
      },
      "execution_count": 100,
      "outputs": [
        {
          "output_type": "stream",
          "name": "stdout",
          "text": [
            "CPU times: user 73.3 ms, sys: 3.04 ms, total: 76.4 ms\n",
            "Wall time: 8.99 s\n"
          ]
        }
      ]
    },
    {
      "cell_type": "markdown",
      "source": [
        "--------------------------------------------------------------------------------"
      ],
      "metadata": {
        "id": "xb2OSt0vsXS8"
      }
    },
    {
      "cell_type": "markdown",
      "source": [
        "**STREAMING**"
      ],
      "metadata": {
        "id": "s_ko_Er8sNhh"
      }
    },
    {
      "cell_type": "markdown",
      "source": [
        "Let's create a streaming version of this input, we'll read each file one by one as if it was a stream"
      ],
      "metadata": {
        "id": "HL4IwqhOsR-1"
      }
    },
    {
      "cell_type": "code",
      "source": [
        "part = spark.read.csv(\"transaction_csv/paysim/part-00000-499baf87-6e59-41c7-91e2-698dc84df381-c000.csv\",\n",
        "                      header=True,\n",
        "                      inferSchema=True)"
      ],
      "metadata": {
        "id": "3f9goZzigfPg"
      },
      "execution_count": 103,
      "outputs": []
    },
    {
      "cell_type": "code",
      "source": [
        "dataSchema = part.schema"
      ],
      "metadata": {
        "id": "9NAIVyeGVsxU"
      },
      "execution_count": 104,
      "outputs": []
    },
    {
      "cell_type": "code",
      "source": [
        "streaming = spark.readStream.schema(dataSchema)\\\n",
        "                  .option(\"maxFilesPerTrigger\",1)\\\n",
        "                  .csv(\"transaction_csv/paysim/\")"
      ],
      "metadata": {
        "id": "YWRftRBwjmOo"
      },
      "execution_count": 106,
      "outputs": []
    },
    {
      "cell_type": "code",
      "source": [
        "# Write new data to Parquet files\n",
        "streaming.writeStream\\\n",
        "  .format(\"parquet\")\\\n",
        "  .option(\"checkpointLocation\", \"transaction_checkpoint\")\\\n",
        "  .option(\"path\", \"transaction_parquet\")\\\n",
        "  .start()"
      ],
      "metadata": {
        "colab": {
          "base_uri": "https://localhost:8080/"
        },
        "id": "rGIm_IhYWG2N",
        "outputId": "59dc4996-f3a0-4630-8744-75f041711968"
      },
      "execution_count": 107,
      "outputs": [
        {
          "output_type": "execute_result",
          "data": {
            "text/plain": [
              "<pyspark.sql.streaming.StreamingQuery at 0x7fe1e4e8dbd0>"
            ]
          },
          "metadata": {},
          "execution_count": 107
        }
      ]
    },
    {
      "cell_type": "markdown",
      "source": [
        "Note: To visualize the data streaming:\n",
        "\n",
        "1) filter the dataframe df on step (step == 3), \n",
        "2) save it as a csv in another folder, \n",
        "3) manually copy the csv file in the **transaction_csv** folder\n",
        "4) after 1 min or less, a new parquet file will be add in the **transaction_parquet** folder"
      ],
      "metadata": {
        "id": "oeIwgwumvahf"
      }
    },
    {
      "cell_type": "code",
      "source": [
        "#activityQuery = (streaming.writeStream\\\n",
        "#  .format(\"parquet\")\\\n",
        "#  .option(\"checkpointLocation\", \"transaction_checkpoint\")\\\n",
        "#  .option(\"path\", \"transaction_parquet\")\\\n",
        "#  .start())"
      ],
      "metadata": {
        "id": "h89ksQGYeSJr"
      },
      "execution_count": 110,
      "outputs": []
    },
    {
      "cell_type": "code",
      "source": [
        "#if we want to turn off the stream we will run activityQuery.stop()to reset the query for testing purposes\n",
        "#activityQuery.stop()"
      ],
      "metadata": {
        "id": "zk-cMEo0xAQs"
      },
      "execution_count": 111,
      "outputs": []
    },
    {
      "cell_type": "code",
      "source": [
        ""
      ],
      "metadata": {
        "id": "cQRNG0iGxhCQ"
      },
      "execution_count": null,
      "outputs": []
    }
  ]
}